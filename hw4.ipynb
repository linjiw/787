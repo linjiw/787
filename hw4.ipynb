{
  "nbformat": 4,
  "nbformat_minor": 0,
  "metadata": {
    "colab": {
      "name": "hw4.ipynb",
      "provenance": [],
      "collapsed_sections": [],
      "authorship_tag": "ABX9TyMhUePxwmsY2UyU1NCq04p5",
      "include_colab_link": true
    },
    "kernelspec": {
      "name": "python3",
      "display_name": "Python 3"
    },
    "language_info": {
      "name": "python"
    }
  },
  "cells": [
    {
      "cell_type": "markdown",
      "metadata": {
        "id": "view-in-github",
        "colab_type": "text"
      },
      "source": [
        "<a href=\"https://colab.research.google.com/github/linjiw/787/blob/main/hw4.ipynb\" target=\"_parent\"><img src=\"https://colab.research.google.com/assets/colab-badge.svg\" alt=\"Open In Colab\"/></a>"
      ]
    },
    {
      "cell_type": "markdown",
      "source": [
        "#Q1: One-vs-All (OVA) Logistic Regression for Handwritten Digits"
      ],
      "metadata": {
        "id": "yjATEpchC526"
      }
    },
    {
      "cell_type": "markdown",
      "source": [
        "preprocess colab and data files."
      ],
      "metadata": {
        "id": "leajdt7zDBTo"
      }
    },
    {
      "cell_type": "code",
      "source": [
        "import numpy as np\n",
        "import scipy.io as sio\n",
        "import matplotlib.pyplot as plt\n",
        "from tqdm import tqdm"
      ],
      "metadata": {
        "id": "EM3wZIR6Sc3u"
      },
      "execution_count": 2,
      "outputs": []
    },
    {
      "cell_type": "code",
      "execution_count": 3,
      "metadata": {
        "colab": {
          "base_uri": "https://localhost:8080/"
        },
        "id": "tyaSyLgVQ9ni",
        "outputId": "cf6b3bad-552e-4afe-ec95-6ac4f44c5a1e"
      },
      "outputs": [
        {
          "output_type": "stream",
          "name": "stdout",
          "text": [
            "Mounted at /content/drive\n"
          ]
        }
      ],
      "source": [
        "\n",
        "from google.colab import drive\n",
        "drive.mount('/content/drive')"
      ]
    },
    {
      "cell_type": "code",
      "source": [
        "%cd /content/drive/MyDrive/24787/hw4"
      ],
      "metadata": {
        "colab": {
          "base_uri": "https://localhost:8080/"
        },
        "id": "JB5vb1a4RKEo",
        "outputId": "f27ce6c6-93ce-4e7f-d94a-e1eb5005c930"
      },
      "execution_count": 4,
      "outputs": [
        {
          "output_type": "stream",
          "name": "stdout",
          "text": [
            "/content/drive/MyDrive/24787/hw4\n"
          ]
        }
      ]
    },
    {
      "cell_type": "code",
      "source": [
        "%ls"
      ],
      "metadata": {
        "colab": {
          "base_uri": "https://localhost:8080/"
        },
        "id": "M-blZ-v3RYdr",
        "outputId": "d0578d56-e9cc-46af-ab5c-df9be4dd0c6c"
      },
      "execution_count": 5,
      "outputs": [
        {
          "output_type": "stream",
          "name": "stdout",
          "text": [
            "digits.mat  MLAI24787_hw04_2022Spring.pdf  train.txt  w.npy\n",
            "hw4.ipynb   test.txt                       w_all.npy  w_sk.npy\n"
          ]
        }
      ]
    },
    {
      "cell_type": "markdown",
      "source": [
        "##(a) Load data"
      ],
      "metadata": {
        "id": "z6Mj3b8NDF6_"
      }
    },
    {
      "cell_type": "code",
      "source": [
        "data = sio.loadmat(\"digits.mat\")\n",
        "\n",
        "x = data['X']\n",
        "y = np.squeeze(data['y']).reshape((-1,1))\n",
        "\n",
        "np.place(y,y==10,0) #replace 10 with 0 in labels \n",
        "numExamples = x.shape[0] \n",
        "numFeaturs = x.shape[1] \n",
        "numLabels = 10 #10 class"
      ],
      "metadata": {
        "id": "oTdGH-zIRZ9g"
      },
      "execution_count": 6,
      "outputs": []
    },
    {
      "cell_type": "code",
      "source": [
        "print(f\"numExamples {numExamples} numFeaturs {numFeaturs} numLabels {numLabels} y.shape {y.shape}\")"
      ],
      "metadata": {
        "colab": {
          "base_uri": "https://localhost:8080/"
        },
        "id": "N4vWVIfeRs_s",
        "outputId": "8f2273d3-1b8a-4a87-f57d-1a77959247c6"
      },
      "execution_count": 7,
      "outputs": [
        {
          "output_type": "stream",
          "name": "stdout",
          "text": [
            "numExamples 5000 numFeaturs 400 numLabels 10 y.shape (5000, 1)\n"
          ]
        }
      ]
    },
    {
      "cell_type": "code",
      "source": [
        "range1 = [0,22,232,2332]\n",
        "fig, axs = plt.subplots(1, 4)\n",
        "# axs[0, 0].plot(x, y)\n",
        "# axs[1, 1].scatter(x, y)\n",
        "\n",
        "for idx, i in enumerate(range1):\n",
        "  pic = x[i,:].reshape((20,20))\n",
        "  axs[idx].imshow(pic)\n",
        "  axs[idx].set_title(f\"{i+1}\")\n",
        "plt.show()\n"
      ],
      "metadata": {
        "colab": {
          "base_uri": "https://localhost:8080/",
          "height": 137
        },
        "id": "mPoaa7MsRkJC",
        "outputId": "a8def9d8-9d6b-42be-f0ac-f3bcf2cf5c16"
      },
      "execution_count": 18,
      "outputs": [
        {
          "output_type": "display_data",
          "data": {
            "image/png": "[encoded data removed]",
            "text/plain": [
              "<Figure size 432x288 with 4 Axes>"
            ]
          },
          "metadata": {
            "needs_background": "light"
          }
        }
      ]
    },
    {
      "cell_type": "markdown",
      "source": [
        "##(b)(Training the OVA classifier with gradient descent)"
      ],
      "metadata": {
        "id": "unohLYpyFt1R"
      }
    },
    {
      "cell_type": "code",
      "source": [
        "def sigmoid(z):\n",
        "\n",
        "  return 1 / (1 + np.exp(-z))\n",
        "\n",
        "def cost(theta, X, y):\n",
        "\n",
        "  predictions = sigmoid(X @ theta) \n",
        "  predictions[predictions == 1] = 0.999 #log(1)=0 causes error in division \n",
        "  error = -y * np.log(predictions) - (1 - y) * np.log(1 - predictions)\n",
        "  return sum(error) / len(y);\n",
        "\n",
        "def costGradient(theta, X, y):\n",
        "\n",
        "  predictions = sigmoid(X @ theta)\n",
        "  # print(f\"predictions.shape {predictions.shape} X.shape {X.shape} X.T @ predictions\")\n",
        "  return X.transpose() @ (predictions - y) / len(y)"
      ],
      "metadata": {
        "id": "YYvE80TPSO49"
      },
      "execution_count": 13,
      "outputs": []
    },
    {
      "cell_type": "markdown",
      "source": [
        "define splitdata function: split data to train and test"
      ],
      "metadata": {
        "id": "F7CSKw9TF2z3"
      }
    },
    {
      "cell_type": "code",
      "source": [
        "def splitdata(x,y):\n",
        "  train_x = np.empty((0,numFeaturs))\n",
        "  train_y = np.empty((0,1))\n",
        "  val_x = np.empty((0,numFeaturs))\n",
        "  val_y = np.empty((0,1))\n",
        "  for i in range(10):\n",
        "    train_x = np.vstack((train_x,x[i*500:(i+1)*500-100,:]))\n",
        "    train_y = np.vstack((train_y,y[i*500:(i+1)*500-100,:]))\n",
        "    val_x = np.vstack((val_x,x[i*500+400:(i+1)*500,:]))\n",
        "    # print(val_x.shape)\n",
        "    val_y = np.vstack((val_y,y[i*500+400:(i+1)*500,:]))\n",
        "  return train_x,train_y,val_x,val_y\n",
        "\n",
        "train_x,train_y,val_x,val_y = splitdata(x,y)\n",
        "print(f\"train_x {train_x.shape} train_y {train_y.shape} val_x {val_x.shape} val_y {val_y.shape}\")"
      ],
      "metadata": {
        "colab": {
          "base_uri": "https://localhost:8080/"
        },
        "id": "fFpQXuB7YHvc",
        "outputId": "1063ba45-8fdf-4b24-a5d3-2a968c684631"
      },
      "execution_count": 15,
      "outputs": [
        {
          "output_type": "stream",
          "name": "stdout",
          "text": [
            "train_x (4000, 400) train_y (4000, 1) val_x (1000, 400) val_y (1000, 1)\n"
          ]
        }
      ]
    },
    {
      "cell_type": "code",
      "source": [
        "def plotloss(losslst,id=None):\n",
        "    plt.plot(np.arange(len(losslst)), losslst)\n",
        "    plt.title(f\"M{id} model\")\n",
        "    plt.xlabel(\"step\")\n",
        "    plt.ylabel(\"loss\")\n",
        "    plt.show()\n",
        "\n",
        "def train(X,Y,class_idx,step=0.1,iter=1e6,threshold=1e-6,e=1e-8,ifplot = False,id=None):\n",
        "    X = np.hstack((X,np.ones((X.shape[0],1))))\n",
        "    Z = np.zeros((Y.shape))\n",
        "    Z[Y==class_idx] = 1\n",
        "    Z[Y!=class_idx] = 0\n",
        "    error  = 1e5\n",
        "    count = 0\n",
        "    prev = 0\n",
        "    J_lst = []\n",
        "    # w = np.array([[-65],[0],[0]],dtype=float)\n",
        "    theta = np.zeros((numFeaturs+1,1))\n",
        "    while error > threshold and count<iter:\n",
        "\n",
        "        J = cost(theta,X,Z)\n",
        "        G = costGradient(theta,X,Z)\n",
        "        # print(f\"G.shape {G.shape}. theta.shape {theta.shape}\")\n",
        "        theta -= step*G\n",
        "        error = np.abs(J-prev)\n",
        "        prev = J\n",
        "        J_lst.append(J)\n",
        "        count+=1\n",
        "        # print(f\"loss {J}\")\n",
        "    if ifplot:\n",
        "      plotloss(J_lst,id=id)\n",
        "    \n",
        "    return theta\n",
        "\n",
        "# W = np.zeros((numFeaturs,1))\n",
        "w_all = np.empty((numFeaturs+1,0))\n",
        "\n",
        "for i in tqdm(range(10)):\n",
        "  if i==0 or i==5:\n",
        "    # w_all[str(i)] = train(train_x,train_y,i,ifplot=True)\n",
        "    w_all = np.hstack((w_all,train(train_x,train_y,i,ifplot=True,id=i)))\n",
        "  else:\n",
        "    w_all = np.hstack((w_all,train(train_x,train_y,i,ifplot=False)))\n",
        "  # w_sk = \n",
        "np.save('w_all.npy',w_all)\n",
        "\n",
        "\n",
        "\n"
      ],
      "metadata": {
        "colab": {
          "base_uri": "https://localhost:8080/",
          "height": 625
        },
        "id": "f0vuH8LnTIKz",
        "outputId": "e0048dd9-e5dd-444c-851f-21943ba293c4"
      },
      "execution_count": 16,
      "outputs": [
        {
          "output_type": "stream",
          "name": "stderr",
          "text": [
            "\r  0%|          | 0/10 [00:00<?, ?it/s]"
          ]
        },
        {
          "output_type": "display_data",
          "data": {
            "image/png": "[encoded data removed]",
            "text/plain": [
              "<Figure size 432x288 with 1 Axes>"
            ]
          },
          "metadata": {
            "needs_background": "light"
          }
        },
        {
          "output_type": "stream",
          "name": "stderr",
          "text": [
            " 50%|█████     | 5/10 [05:26<05:37, 67.54s/it]"
          ]
        },
        {
          "output_type": "display_data",
          "data": {
            "image/png": "[encoded data removed]",
            "text/plain": [
              "<Figure size 432x288 with 1 Axes>"
            ]
          },
          "metadata": {
            "needs_background": "light"
          }
        },
        {
          "output_type": "stream",
          "name": "stderr",
          "text": [
            "100%|██████████| 10/10 [12:01<00:00, 72.11s/it]\n"
          ]
        }
      ]
    },
    {
      "cell_type": "markdown",
      "source": [
        "prediction"
      ],
      "metadata": {
        "id": "sFBcQpDlJyA1"
      }
    },
    {
      "cell_type": "code",
      "source": [
        "# w_mat = np.empty((numFeaturs+1,0))\n",
        "# for i in range(10):\n",
        "#   w_mat = np.hstack((w_mat,w_all[str(i)]))\n",
        "# print(w_mat.shape)"
      ],
      "metadata": {
        "colab": {
          "base_uri": "https://localhost:8080/"
        },
        "id": "vtqb-krJkOPc",
        "outputId": "e83b30ae-ae94-4815-e7d0-43bc9430ad73"
      },
      "execution_count": null,
      "outputs": [
        {
          "output_type": "stream",
          "name": "stdout",
          "text": [
            "(401, 10)\n"
          ]
        }
      ]
    },
    {
      "cell_type": "markdown",
      "source": [
        "generate prediction for the $[1,23,233,2333]$ images."
      ],
      "metadata": {
        "id": "SMBj-0yXJ3Nt"
      }
    },
    {
      "cell_type": "code",
      "source": [
        "\n",
        "def predict(x,w_mat):\n",
        "  predictions = np.empty((numExamples,0))\n",
        "  x = np.hstack((x,np.ones((x.shape[0],1))))\n",
        "  for i in range(10):\n",
        "    # theta = w_all[str(i)]\n",
        "    prob = sigmoid(x @ w_mat[:,i]).reshape((-1,1))\n",
        "    \n",
        "    predictions = np.hstack((predictions,prob))\n",
        "\n",
        "  pred = np.argmax(predictions,axis=1).reshape((-1,1))\n",
        "  return pred\n",
        "\n",
        "pred = predict(x,w_all)\n",
        "\n",
        "for i in range1:\n",
        "  print(f\" {i+1}: {pred[i]}\\n \")\n",
        "\n"
      ],
      "metadata": {
        "colab": {
          "base_uri": "https://localhost:8080/"
        },
        "id": "C94FYhRqjmW3",
        "outputId": "70670a93-8808-4e2b-83a1-059d00269e1b"
      },
      "execution_count": 17,
      "outputs": [
        {
          "output_type": "stream",
          "name": "stdout",
          "text": [
            " 1: [0]\n",
            " \n",
            " 23: [0]\n",
            " \n",
            " 233: [0]\n",
            " \n",
            " 2333: [4]\n",
            " \n"
          ]
        }
      ]
    },
    {
      "cell_type": "markdown",
      "source": [
        "calculate accuracy for my trained model.\n",
        "\n"
      ],
      "metadata": {
        "id": "lai3Ki2pKI-l"
      }
    },
    {
      "cell_type": "code",
      "source": [
        "def pred_acc(x,y,w_mat):\n",
        "  x = np.hstack((x,np.ones((x.shape[0],1))))\n",
        "  predictions = sigmoid(x @ w_mat)\n",
        "  pred = np.argmax(predictions,axis=1).reshape((-1,1))\n",
        "  # print(pred)\n",
        "  acc = sum(pred==y)/len(y)\n",
        "  # print(acc)\n",
        "  # print(\"acc: {:.2f}%\".format(acc))\n",
        "  return acc[0]\n",
        "train_acc = pred_acc(train_x,train_y,w_all)\n",
        "test_acc = pred_acc(val_x,val_y,w_all)\n",
        "whole_acc = pred_acc(x,y,w_all)\n",
        "print(\"train acc: {:.2f}%\".format(train_acc*100))\n",
        "print(\"test acc: {:.2f}%\".format(test_acc*100))\n",
        "# print(\"whole acc: {:.2f}%\".format(whole_acc*100))\n",
        "\n",
        "\n",
        "\n"
      ],
      "metadata": {
        "colab": {
          "base_uri": "https://localhost:8080/"
        },
        "id": "BVhfqTrKl5D_",
        "outputId": "8f3991db-39dd-4b68-b55d-cb8dbb8aa277"
      },
      "execution_count": 20,
      "outputs": [
        {
          "output_type": "stream",
          "name": "stdout",
          "text": [
            "train acc: 93.23%\n",
            "test acc: 90.10%\n"
          ]
        }
      ]
    },
    {
      "cell_type": "markdown",
      "source": [
        "calculate accuracy using sklearn."
      ],
      "metadata": {
        "id": "1m9D_wouKiwR"
      }
    },
    {
      "cell_type": "code",
      "source": [
        "from sklearn import linear_model \n",
        "\n",
        "# pad_train_x = \n",
        "def sk_train(X,Y,class_idx):\n",
        "    X = np.hstack((X,np.ones((X.shape[0],1))))\n",
        "    Z = Y.copy()\n",
        "    Z[Y==class_idx] = 1\n",
        "    Z[Y!=class_idx] = 0\n",
        "    # print(Z) \n",
        "    clf = linear_model.LogisticRegression(penalty=\"l2\", solver=\"liblinear\",tol=1e-6,max_iter=int(1e6))\n",
        "    clf.fit(X,Z.ravel())\n",
        "    w = clf.coef_.reshape(-1,1)\n",
        "    # score = clf.score(X,Z)\n",
        "    # print(score)\n",
        "    return w\n",
        "\n",
        "w_sk = np.empty((numFeaturs+1,0))\n",
        "for i in range(10):\n",
        "  # print(i)\n",
        "  w_sk = np.hstack((w_sk,sk_train(x,y,i)))\n",
        "np.save('w_sk.npy',w_sk) "
      ],
      "metadata": {
        "id": "LYY04JLfpw-j"
      },
      "execution_count": 23,
      "outputs": []
    },
    {
      "cell_type": "code",
      "source": [
        "# w_sk = w_sk.reshape((-1,1))\n",
        "train_acc = pred_acc(train_x,train_y,w_sk)\n",
        "test_acc = pred_acc(val_x,val_y,w_sk)\n",
        "whole_acc = pred_acc(x,y,w_sk)\n",
        "print(\"train acc: {:.2f}%\".format(train_acc*100))\n",
        "print(\"test acc: {:.2f}%\".format(test_acc*100))\n",
        "# print(\"whole acc: {:.2f}%\".format(whole_acc*100))"
      ],
      "metadata": {
        "colab": {
          "base_uri": "https://localhost:8080/"
        },
        "id": "bUK_8RsIuusI",
        "outputId": "a6dc54ff-28e0-4cfe-b728-0936bdd074d0"
      },
      "execution_count": 24,
      "outputs": [
        {
          "output_type": "stream",
          "name": "stdout",
          "text": [
            "train acc: 91.90%\n",
            "test acc: 91.90%\n"
          ]
        }
      ]
    },
    {
      "cell_type": "markdown",
      "source": [
        "Here we could notice that the accuracy of my model is very similar to the accuracy of using sklearn linear model. Thus, my model could be verified useful."
      ],
      "metadata": {
        "id": "vxBP2v9NKeGJ"
      }
    },
    {
      "cell_type": "markdown",
      "source": [
        "##Q2 : Data Normalization and Error"
      ],
      "metadata": {
        "id": "J1w628rZmuJz"
      }
    },
    {
      "cell_type": "code",
      "source": [
        "test_data = np.loadtxt(\"test.txt\")\n",
        "train_data = np.loadtxt(\"train.txt\")\n",
        "print(f\"test_data {test_data.shape} train_data {train_data.shape}\")"
      ],
      "metadata": {
        "colab": {
          "base_uri": "https://localhost:8080/"
        },
        "id": "k-R8xdG9_WNF",
        "outputId": "d53d5770-0c47-4d13-eef5-2a8f7c56ffab"
      },
      "execution_count": 25,
      "outputs": [
        {
          "output_type": "stream",
          "name": "stdout",
          "text": [
            "test_data (500, 3) train_data (1000, 3)\n"
          ]
        }
      ]
    },
    {
      "cell_type": "code",
      "source": [
        "# test_data = np.hstack((test_data, np.ones((test_data.shape[0],1))) )\n",
        "# train_data = np.hstack((train_data, np.ones((train_data.shape[0],1))) )"
      ],
      "metadata": {
        "id": "TNwbyEg-HlF2"
      },
      "execution_count": null,
      "outputs": []
    },
    {
      "cell_type": "code",
      "source": [
        "def splitdata(data):\n",
        "  x = data[:,:2]\n",
        "  y = data[:,-1]\n",
        "  return x,y"
      ],
      "metadata": {
        "id": "8LSYGSHKmxs4"
      },
      "execution_count": 26,
      "outputs": []
    },
    {
      "cell_type": "code",
      "source": [
        "train_x, train_y = splitdata(train_data)\n",
        "test_x, test_y = splitdata(test_data)"
      ],
      "metadata": {
        "id": "UaVeH1WUm8qM"
      },
      "execution_count": 27,
      "outputs": []
    },
    {
      "cell_type": "markdown",
      "source": [
        "use map_feature method to map input to a cubic function."
      ],
      "metadata": {
        "id": "EJ1HxSf0LLna"
      }
    },
    {
      "cell_type": "code",
      "source": [
        "def map_feature(X,feature_num=3):\n",
        "  x1 = X[:,0].reshape(-1,1)\n",
        "  x2 = X[:,1].reshape(-1,1)\n",
        "  # feature_lst = []\n",
        "  count = 0\n",
        "  feature_lst = None\n",
        "  for j in range(feature_num+1):\n",
        "    for k in range(j+1):\n",
        "      if count ==0:\n",
        "        feature_lst = (x1**(k))*(x2**(j-k))\n",
        "      else:\n",
        "        feature_lst= np.hstack((feature_lst,(x1**(k))*(x2**(j-k))))\n",
        "      count +=1\n",
        "  print(feature_lst.shape)\n",
        "  return feature_lst"
      ],
      "metadata": {
        "id": "Fnhn6kUenOYV"
      },
      "execution_count": 28,
      "outputs": []
    },
    {
      "cell_type": "code",
      "source": [
        "train_X_cubic = map_feature(train_x)\n",
        "test_X_cubic = map_feature(test_x)\n",
        "# print(train_X_cubic)"
      ],
      "metadata": {
        "colab": {
          "base_uri": "https://localhost:8080/"
        },
        "id": "L-z8KTwAnkGs",
        "outputId": "1a29cd3a-5956-4077-8a1e-dd3e54027dbe"
      },
      "execution_count": 29,
      "outputs": [
        {
          "output_type": "stream",
          "name": "stdout",
          "text": [
            "(1000, 10)\n",
            "(500, 10)\n"
          ]
        }
      ]
    },
    {
      "cell_type": "markdown",
      "source": [
        "##(a)  no-standardization, output the vector of eigenvalues of the $A^TA$ matrix"
      ],
      "metadata": {
        "id": "4geoqVzZLbLy"
      }
    },
    {
      "cell_type": "code",
      "source": [
        "eig, _ = np.linalg.eig(train_X_cubic.T @ train_X_cubic)\n",
        "ratio = max(eig) / min(eig)\n",
        "print(f\"eig {eig}\")\n",
        "print(f\"ratio {ratio}\")"
      ],
      "metadata": {
        "colab": {
          "base_uri": "https://localhost:8080/"
        },
        "id": "ranMn5H1JGMe",
        "outputId": "c3c223b3-bfa6-4768-e610-7cdcc5c511eb"
      },
      "execution_count": 30,
      "outputs": [
        {
          "output_type": "stream",
          "name": "stdout",
          "text": [
            "eig [0.00000000e+00 3.69838267e+27 2.55647952e+20 1.84299854e+17\n",
            " 2.39035796e+13 7.29695889e+09 1.18665615e+07 2.25891639e+06\n",
            " 4.41363216e+04 4.45802681e+02]\n",
            "ratio inf\n"
          ]
        },
        {
          "output_type": "stream",
          "name": "stderr",
          "text": [
            "/usr/local/lib/python3.7/dist-packages/ipykernel_launcher.py:2: RuntimeWarning: divide by zero encountered in double_scalars\n",
            "  \n"
          ]
        }
      ]
    },
    {
      "cell_type": "markdown",
      "source": [
        "Here we could notice that since the min eigenvalue is 0, thus the ratio between the largest and the smallest is infinity. Since the min eigenvalue is 0, thus the ratio is inf and connot be computed."
      ],
      "metadata": {
        "id": "c_g7mtsFLoyx"
      }
    },
    {
      "cell_type": "markdown",
      "source": [
        "##(b)  no-standardization, output your model’s prediction"
      ],
      "metadata": {
        "id": "UuG5gRKRMB9o"
      }
    },
    {
      "cell_type": "code",
      "source": [
        "w = np.linalg.inv(train_X_cubic.T @ train_X_cubic) @ train_X_cubic.T @ train_y.reshape((-1,1))\n",
        "print(f\"w {w.shape}\")"
      ],
      "metadata": {
        "colab": {
          "base_uri": "https://localhost:8080/"
        },
        "id": "NnTl3rX5J82q",
        "outputId": "cb7dd40a-a09a-43ea-e2d0-b657ead21f68"
      },
      "execution_count": 31,
      "outputs": [
        {
          "output_type": "stream",
          "name": "stdout",
          "text": [
            "w (10, 1)\n"
          ]
        }
      ]
    },
    {
      "cell_type": "code",
      "source": [
        "pred = test_X_cubic @ w\n",
        "print(f\"prediction: \\n{pred}\")\n"
      ],
      "metadata": {
        "colab": {
          "base_uri": "https://localhost:8080/"
        },
        "id": "wioDpHiHKOob",
        "outputId": "2826b44b-0695-4819-82b1-847ab1642ba7"
      },
      "execution_count": 33,
      "outputs": [
        {
          "output_type": "stream",
          "name": "stdout",
          "text": [
            "prediction: \n",
            "[[  45.8471992 ]\n",
            " [  50.55510689]\n",
            " [   9.47781858]\n",
            " [  23.6217668 ]\n",
            " [ -20.19232482]\n",
            " [  49.60034064]\n",
            " [ 119.99144615]\n",
            " [  17.39498882]\n",
            " [ 124.87883503]\n",
            " [  87.62907357]\n",
            " [ 120.2144563 ]\n",
            " [ 116.57534971]\n",
            " [  53.9979086 ]\n",
            " [  -2.5993566 ]\n",
            " [  61.82501499]\n",
            " [  59.98939643]\n",
            " [ -23.8638442 ]\n",
            " [  45.76169736]\n",
            " [  41.46209512]\n",
            " [  94.03043272]\n",
            " [  72.35192523]\n",
            " [  69.09409629]\n",
            " [  61.37915435]\n",
            " [   5.68083576]\n",
            " [  60.15787873]\n",
            " [  66.68030435]\n",
            " [  13.10122171]\n",
            " [ -19.62814556]\n",
            " [  12.21877149]\n",
            " [  59.93585168]\n",
            " [ 118.84117681]\n",
            " [  23.84810988]\n",
            " [  40.52951869]\n",
            " [  43.79447959]\n",
            " [  63.30032389]\n",
            " [  18.62917909]\n",
            " [ -10.6919105 ]\n",
            " [  68.98636304]\n",
            " [   5.65599235]\n",
            " [  54.66243217]\n",
            " [  10.83823185]\n",
            " [  26.31228688]\n",
            " [  -7.72989688]\n",
            " [  30.71087477]\n",
            " [  19.3359053 ]\n",
            " [  38.49654709]\n",
            " [ 111.2475721 ]\n",
            " [ -14.12426607]\n",
            " [ 100.44747038]\n",
            " [  24.77493139]\n",
            " [  89.6150683 ]\n",
            " [  -5.17743765]\n",
            " [ -12.75180698]\n",
            " [  41.69450721]\n",
            " [   2.92541669]\n",
            " [  -1.56792993]\n",
            " [  30.83157587]\n",
            " [ 105.84753935]\n",
            " [  87.54482549]\n",
            " [ -38.46377899]\n",
            " [  69.72541609]\n",
            " [ 102.58021787]\n",
            " [  12.38501058]\n",
            " [ -31.92980148]\n",
            " [ -23.60325327]\n",
            " [-106.83697682]\n",
            " [  -4.53013087]\n",
            " [  20.54344619]\n",
            " [   0.21794687]\n",
            " [  23.26450193]\n",
            " [  24.50419749]\n",
            " [  -2.76266242]\n",
            " [ 123.96168766]\n",
            " [  -0.90564177]\n",
            " [ 114.95527165]\n",
            " [   8.77520541]\n",
            " [  37.44089027]\n",
            " [ 109.19894146]\n",
            " [  76.41143646]\n",
            " [  18.92618496]\n",
            " [   0.65211961]\n",
            " [  28.33741228]\n",
            " [  23.21946597]\n",
            " [  88.77625681]\n",
            " [  38.70173205]\n",
            " [   8.97923096]\n",
            " [  38.00142367]\n",
            " [  19.79791105]\n",
            " [  17.48482773]\n",
            " [  56.41886523]\n",
            " [   9.88641805]\n",
            " [  58.59661357]\n",
            " [ 104.16148083]\n",
            " [ -18.81158435]\n",
            " [  21.61085605]\n",
            " [ -14.92045741]\n",
            " [  11.23970305]\n",
            " [ -25.13723897]\n",
            " [  98.76730953]\n",
            " [  34.52078399]\n",
            " [ -17.06268812]\n",
            " [  82.02615545]\n",
            " [  97.93854326]\n",
            " [ 125.89045861]\n",
            " [   4.70518489]\n",
            " [  74.98877861]\n",
            " [  34.126483  ]\n",
            " [  36.31705242]\n",
            " [  38.97991577]\n",
            " [  85.26567433]\n",
            " [  22.01692054]\n",
            " [  30.15902269]\n",
            " [  33.44295274]\n",
            " [  91.70267151]\n",
            " [  15.60887721]\n",
            " [  83.46498589]\n",
            " [  30.59183241]\n",
            " [  35.5004632 ]\n",
            " [   3.58693495]\n",
            " [  46.86403286]\n",
            " [ -23.58665955]\n",
            " [ -19.89117835]\n",
            " [  33.80896776]\n",
            " [ -26.70594549]\n",
            " [  23.25656152]\n",
            " [ 105.18103047]\n",
            " [  57.41622331]\n",
            " [   4.84094715]\n",
            " [  50.02434138]\n",
            " [  26.07534825]\n",
            " [  -4.27450571]\n",
            " [  59.23833727]\n",
            " [  27.15117709]\n",
            " [  -1.91285061]\n",
            " [  43.6763277 ]\n",
            " [ 110.51018001]\n",
            " [  55.35505982]\n",
            " [ 115.55837169]\n",
            " [ 102.58309118]\n",
            " [  69.39861198]\n",
            " [  62.08402908]\n",
            " [  25.71849897]\n",
            " [  63.17897677]\n",
            " [  61.53646825]\n",
            " [   9.90841606]\n",
            " [  96.4314574 ]\n",
            " [  53.64282527]\n",
            " [  26.21314076]\n",
            " [  41.23026819]\n",
            " [  22.13235998]\n",
            " [  30.9015556 ]\n",
            " [  34.59167304]\n",
            " [ -26.70921707]\n",
            " [ 127.32174202]\n",
            " [ -11.33733512]\n",
            " [  57.95023857]\n",
            " [  81.07661426]\n",
            " [  53.38552979]\n",
            " [  61.8193463 ]\n",
            " [ 105.6057539 ]\n",
            " [ 106.39076373]\n",
            " [ 114.95238452]\n",
            " [ -26.59955532]\n",
            " [ 108.21382871]\n",
            " [  32.40913197]\n",
            " [ -17.2831216 ]\n",
            " [ -16.80033619]\n",
            " [  45.01609814]\n",
            " [ 112.70561439]\n",
            " [ -21.96971475]\n",
            " [  53.74508375]\n",
            " [ -63.81765486]\n",
            " [   3.44161049]\n",
            " [  22.641691  ]\n",
            " [ -12.83113678]\n",
            " [   4.05281102]\n",
            " [  28.70391755]\n",
            " [ -20.2208792 ]\n",
            " [   0.56885214]\n",
            " [  70.37811844]\n",
            " [  58.53328498]\n",
            " [  12.04110593]\n",
            " [  -8.40096182]\n",
            " [  -2.44109874]\n",
            " [  53.20098028]\n",
            " [ -13.25989405]\n",
            " [  67.73501018]\n",
            " [  16.84904393]\n",
            " [  38.30805777]\n",
            " [  77.20374188]\n",
            " [  25.60393766]\n",
            " [   6.91705999]\n",
            " [  18.28417546]\n",
            " [ 105.78280556]\n",
            " [   7.05966955]\n",
            " [  -6.06145617]\n",
            " [ -27.85074146]\n",
            " [ 131.91971474]\n",
            " [  19.82451485]\n",
            " [ -13.35315269]\n",
            " [  63.55221813]\n",
            " [ 119.698197  ]\n",
            " [  31.14378482]\n",
            " [  15.95058741]\n",
            " [  22.6151891 ]\n",
            " [  62.00015504]\n",
            " [  17.45351356]\n",
            " [ 108.21383135]\n",
            " [ 114.16179522]\n",
            " [ 128.6444928 ]\n",
            " [  66.53398809]\n",
            " [  14.91906836]\n",
            " [  76.85001074]\n",
            " [  -8.85810655]\n",
            " [  47.70217275]\n",
            " [  11.37769663]\n",
            " [   2.82854159]\n",
            " [  96.82778121]\n",
            " [  31.76175288]\n",
            " [  13.74884321]\n",
            " [  62.13626193]\n",
            " [   0.616508  ]\n",
            " [   7.40057811]\n",
            " [  27.50958102]\n",
            " [ -22.82735077]\n",
            " [  26.67423299]\n",
            " [ -11.66880376]\n",
            " [  58.73772281]\n",
            " [  84.79487797]\n",
            " [  93.76143184]\n",
            " [  -3.62451613]\n",
            " [  78.05759661]\n",
            " [  57.6506514 ]\n",
            " [   3.57872912]\n",
            " [   7.3601632 ]\n",
            " [  78.61673037]\n",
            " [ -23.82170757]\n",
            " [  96.36591783]\n",
            " [  37.16815609]\n",
            " [  75.09218347]\n",
            " [  94.64978037]\n",
            " [ -25.18688073]\n",
            " [  96.43303956]\n",
            " [ 120.68208966]\n",
            " [  10.39530214]\n",
            " [ 108.47563674]\n",
            " [  53.69561507]\n",
            " [  85.37749579]\n",
            " [ 102.98283096]\n",
            " [  70.93507973]\n",
            " [  69.60711557]\n",
            " [  27.2474988 ]\n",
            " [  13.3840818 ]\n",
            " [  72.72995305]\n",
            " [  39.89423857]\n",
            " [  -0.72333577]\n",
            " [ -11.88463674]\n",
            " [  85.81868727]\n",
            " [ -20.67242985]\n",
            " [  58.09305361]\n",
            " [  25.01404836]\n",
            " [   5.89400457]\n",
            " [  23.26740458]\n",
            " [ -21.60293771]\n",
            " [  93.49974178]\n",
            " [  73.92253372]\n",
            " [   0.62155983]\n",
            " [ 130.76480062]\n",
            " [  67.09440349]\n",
            " [  64.51025898]\n",
            " [  24.51909502]\n",
            " [ -18.38654964]\n",
            " [  57.24929203]\n",
            " [ -57.42408919]\n",
            " [ 111.636196  ]\n",
            " [  19.07006349]\n",
            " [  70.09177329]\n",
            " [   5.70567942]\n",
            " [  62.45766104]\n",
            " [ -39.82958418]\n",
            " [  18.22889283]\n",
            " [  18.01758478]\n",
            " [ 131.17509279]\n",
            " [ 102.51549575]\n",
            " [  31.99089018]\n",
            " [  21.94214019]\n",
            " [  39.28279812]\n",
            " [  11.80805042]\n",
            " [  29.57134844]\n",
            " [  53.72933749]\n",
            " [  29.10332849]\n",
            " [  34.88909702]\n",
            " [ -15.64210074]\n",
            " [ 113.11281975]\n",
            " [  82.82906528]\n",
            " [ -26.27422208]\n",
            " [  70.94161761]\n",
            " [  23.21513374]\n",
            " [  27.47311853]\n",
            " [  18.53288907]\n",
            " [  69.68201633]\n",
            " [   3.87241342]\n",
            " [  86.66227768]\n",
            " [  75.36107681]\n",
            " [  19.16329383]\n",
            " [ -22.6757508 ]\n",
            " [  36.46063194]\n",
            " [  17.39743372]\n",
            " [  66.91334116]\n",
            " [  31.24329111]\n",
            " [  52.80866239]\n",
            " [  11.89350499]\n",
            " [  89.08575408]\n",
            " [ 123.28288387]\n",
            " [ 131.7717353 ]\n",
            " [ 109.38929164]\n",
            " [  97.38408039]\n",
            " [  31.32657844]\n",
            " [ 109.78816563]\n",
            " [  -7.4479364 ]\n",
            " [  94.52230058]\n",
            " [  81.17634214]\n",
            " [  23.00477625]\n",
            " [  25.12214891]\n",
            " [  24.50488888]\n",
            " [  21.5437892 ]\n",
            " [ -26.33009534]\n",
            " [  90.03287235]\n",
            " [  58.5088922 ]\n",
            " [  90.71388208]\n",
            " [  82.72536219]\n",
            " [  30.87284976]\n",
            " [ 102.9191351 ]\n",
            " [ 107.71841692]\n",
            " [  10.5306664 ]\n",
            " [   3.42438721]\n",
            " [ 124.95779103]\n",
            " [  -8.22861783]\n",
            " [  42.54626111]\n",
            " [  10.10228121]\n",
            " [  81.27326096]\n",
            " [ -27.12492812]\n",
            " [  56.65161819]\n",
            " [  -0.37412796]\n",
            " [  40.00207241]\n",
            " [  -2.38177777]\n",
            " [ 109.30211894]\n",
            " [ -24.20605147]\n",
            " [  59.33786518]\n",
            " [  64.85502982]\n",
            " [ -21.80196932]\n",
            " [  74.44527854]\n",
            " [  -1.30705556]\n",
            " [  -7.79530864]\n",
            " [ 124.82184415]\n",
            " [  39.01038603]\n",
            " [ -10.56603381]\n",
            " [  26.75076909]\n",
            " [  19.48467839]\n",
            " [  12.37977082]\n",
            " [  19.48408209]\n",
            " [  19.98055542]\n",
            " [  19.14245912]\n",
            " [  32.43090481]\n",
            " [   8.06118504]\n",
            " [ -16.23273926]\n",
            " [  87.16334378]\n",
            " [ 121.47471103]\n",
            " [  36.83186562]\n",
            " [  62.96035597]\n",
            " [  74.56813812]\n",
            " [  -9.55935098]\n",
            " [  18.73653136]\n",
            " [  -1.00870375]\n",
            " [  26.35349867]\n",
            " [  26.711304  ]\n",
            " [ -18.84693736]\n",
            " [  16.45330757]\n",
            " [ 112.5737098 ]\n",
            " [ -19.47110294]\n",
            " [  38.32520278]\n",
            " [  11.75286323]\n",
            " [  11.71171558]\n",
            " [  70.15142137]\n",
            " [ -18.4465127 ]\n",
            " [  11.19157433]\n",
            " [ 123.17089088]\n",
            " [ 100.5822735 ]\n",
            " [  60.05744489]\n",
            " [  -7.42110169]\n",
            " [ 121.45972424]\n",
            " [ -10.00387321]\n",
            " [   0.75218481]\n",
            " [  12.89308665]\n",
            " [  50.83214245]\n",
            " [  33.21880671]\n",
            " [ 129.7879287 ]\n",
            " [  47.67000326]\n",
            " [ 119.52117311]\n",
            " [  35.88700339]\n",
            " [  52.43071171]\n",
            " [  70.35433144]\n",
            " [  89.01025411]\n",
            " [ 114.82425537]\n",
            " [ -13.95469731]\n",
            " [  -5.91429924]\n",
            " [  24.86414824]\n",
            " [  27.93571108]\n",
            " [  -9.75123557]\n",
            " [  30.15874736]\n",
            " [   2.73886197]\n",
            " [   4.63170182]\n",
            " [  21.56799068]\n",
            " [  61.76735106]\n",
            " [  40.37330548]\n",
            " [  90.43931309]\n",
            " [ 132.15385724]\n",
            " [  93.92077211]\n",
            " [  15.38928183]\n",
            " [ 105.10230128]\n",
            " [ 118.03188574]\n",
            " [  88.2962619 ]\n",
            " [  25.37571279]\n",
            " [  -9.33801839]\n",
            " [ 111.69638993]\n",
            " [  -5.84118755]\n",
            " [  -1.25063467]\n",
            " [  59.81183705]\n",
            " [  28.50728452]\n",
            " [  47.37696764]\n",
            " [ -15.91015268]\n",
            " [ -18.93726829]\n",
            " [  85.27036608]\n",
            " [  99.45772849]\n",
            " [  69.94083069]\n",
            " [ -12.75010782]\n",
            " [  60.71003843]\n",
            " [  56.04855045]\n",
            " [   1.65424035]\n",
            " [  13.47232799]\n",
            " [  11.96580087]\n",
            " [   8.97909067]\n",
            " [ -25.62380942]\n",
            " [  46.96138399]\n",
            " [  26.31569119]\n",
            " [ -37.99114388]\n",
            " [  11.48792248]\n",
            " [  38.09199052]\n",
            " [  77.54131484]\n",
            " [ -19.94831373]\n",
            " [  41.23651176]\n",
            " [  -9.22737077]\n",
            " [  -1.37563073]\n",
            " [   4.83836594]\n",
            " [  -7.48966003]\n",
            " [   7.53710304]\n",
            " [  -7.70881331]\n",
            " [   9.21456801]\n",
            " [   8.70912279]\n",
            " [  67.3484599 ]\n",
            " [ 108.56968655]\n",
            " [  68.52615949]\n",
            " [ 120.51945391]\n",
            " [ -13.60256206]\n",
            " [  55.45089068]\n",
            " [  51.52404585]\n",
            " [ -15.13575515]\n",
            " [  70.57900094]\n",
            " [ 127.74472439]\n",
            " [ 117.14908125]\n",
            " [  78.22085287]\n",
            " [  69.03452271]\n",
            " [  10.4782906 ]\n",
            " [ -36.51595174]\n",
            " [  53.08333224]\n",
            " [ -17.55183804]\n",
            " [  33.50079246]\n",
            " [  29.67718233]\n",
            " [  -5.42980289]\n",
            " [ 106.5534429 ]\n",
            " [  27.60208073]\n",
            " [ 102.37372411]\n",
            " [   9.49539156]\n",
            " [  75.98953335]\n",
            " [ 104.10224394]\n",
            " [  -4.94302826]\n",
            " [   2.80768979]\n",
            " [ 126.17291358]\n",
            " [  26.31826897]\n",
            " [  54.21986649]\n",
            " [ 102.69946251]\n",
            " [ 114.20625852]\n",
            " [   7.59202026]\n",
            " [  30.71605389]\n",
            " [  67.00025063]\n",
            " [  30.95319841]\n",
            " [  15.59815567]\n",
            " [ 114.01471605]\n",
            " [ 100.92694202]\n",
            " [  29.8757144 ]]\n"
          ]
        }
      ]
    },
    {
      "cell_type": "markdown",
      "source": [
        "##(c)  no-standardization, compute and output the root mean squared error "
      ],
      "metadata": {
        "id": "MHKtb9S3MVt_"
      }
    },
    {
      "cell_type": "code",
      "source": [
        "rms = np.sqrt(np.mean((pred-test_y.reshape(-1,1))**2,axis=0))\n",
        "print(f\"rms {rms}\")"
      ],
      "metadata": {
        "colab": {
          "base_uri": "https://localhost:8080/"
        },
        "id": "k_cx4Vv4Khcm",
        "outputId": "46643809-c91f-40bb-c01a-c239eec2dfe9"
      },
      "execution_count": 34,
      "outputs": [
        {
          "output_type": "stream",
          "name": "stdout",
          "text": [
            "rms [18.91742004]\n"
          ]
        }
      ]
    },
    {
      "cell_type": "markdown",
      "source": [
        "##(d) standardization, output the vector of eigenvalues of the $A^TA$ matrix"
      ],
      "metadata": {
        "id": "CzaD0QDFNQZs"
      }
    },
    {
      "cell_type": "code",
      "source": [
        "def standardization(train_x,test_x):\n",
        "  u = np.mean(train_x,axis=0)\n",
        "  std = np.std(train_x,axis=0)\n",
        "  print(f\"u.shape {u.shape} std.shape {std.shape}\")\n",
        "  train_x_std = (train_x-u)/std\n",
        "  test_x_std = (test_x-u)/std\n",
        "  return train_x_std, test_x_std\n"
      ],
      "metadata": {
        "id": "v5pQ6PMYKvi3"
      },
      "execution_count": 35,
      "outputs": []
    },
    {
      "cell_type": "code",
      "source": [
        "train_x_std, test_x_std = standardization(train_x, test_x)\n",
        "# test_x_std =  standardization(test_x)\n",
        "print(f\"train_x_std {train_x_std.shape}\")"
      ],
      "metadata": {
        "colab": {
          "base_uri": "https://localhost:8080/"
        },
        "id": "jFvhL8qKJiby",
        "outputId": "46ec9b45-23b9-4181-d67a-5bcba5b43104"
      },
      "execution_count": 36,
      "outputs": [
        {
          "output_type": "stream",
          "name": "stdout",
          "text": [
            "u.shape (2,) std.shape (2,)\n",
            "train_x_std (1000, 2)\n"
          ]
        }
      ]
    },
    {
      "cell_type": "code",
      "source": [
        "train_x_std_cubic = map_feature(train_x_std,feature_num=3)\n",
        "test_x_std_cubic = map_feature(test_x_std,feature_num=3)\n",
        "print(f\"train_x_std_cubic {train_x_std_cubic.shape}\")"
      ],
      "metadata": {
        "colab": {
          "base_uri": "https://localhost:8080/"
        },
        "id": "kMUVM3KqMH6j",
        "outputId": "055e50af-e0c1-43da-e80e-e3972c1f56a0"
      },
      "execution_count": 37,
      "outputs": [
        {
          "output_type": "stream",
          "name": "stdout",
          "text": [
            "(1000, 10)\n",
            "(500, 10)\n",
            "train_x_std_cubic (1000, 10)\n"
          ]
        }
      ]
    },
    {
      "cell_type": "code",
      "source": [
        "# print(train_x_std_cubic)"
      ],
      "metadata": {
        "id": "I-UE7kRNcNbk"
      },
      "execution_count": 38,
      "outputs": []
    },
    {
      "cell_type": "code",
      "source": [
        "eig, _ = np.linalg.eig(train_x_std_cubic.T @ train_x_std_cubic)\n",
        "ratio = max(eig) / min(eig)\n",
        "print(f\"eig {eig}\")\n",
        "print(f\"ratio {ratio}\")"
      ],
      "metadata": {
        "colab": {
          "base_uri": "https://localhost:8080/"
        },
        "id": "5xeP_aChMpak",
        "outputId": "f568d4fd-7723-45ee-d413-e80add193323"
      },
      "execution_count": 39,
      "outputs": [
        {
          "output_type": "stream",
          "name": "stdout",
          "text": [
            "eig [6278.01972693 5438.37641409 3424.40744854 1080.47322434  210.31827492\n",
            "  112.52071394  100.41022042  839.68902588  662.31826487  705.42569236]\n",
            "ratio 62.52371223172815\n"
          ]
        }
      ]
    },
    {
      "cell_type": "markdown",
      "source": [
        "This ratio is 62 and valid since the min eigenvalue is not zero."
      ],
      "metadata": {
        "id": "S0TUiwrCM-4i"
      }
    },
    {
      "cell_type": "markdown",
      "source": [
        "##(e) standardization, output your new model’s prediction"
      ],
      "metadata": {
        "id": "EkWtSZjJNmVE"
      }
    },
    {
      "cell_type": "code",
      "source": [
        "w = np.linalg.inv(train_x_std_cubic.T @ train_x_std_cubic) @ train_x_std_cubic.T @ train_y.reshape((-1,1))\n",
        "print(f\"w {w.shape}\")"
      ],
      "metadata": {
        "colab": {
          "base_uri": "https://localhost:8080/"
        },
        "id": "v7ZNw100NO1z",
        "outputId": "240cd6d2-2d49-40b5-ec21-45e96963d70f"
      },
      "execution_count": 40,
      "outputs": [
        {
          "output_type": "stream",
          "name": "stdout",
          "text": [
            "w (10, 1)\n"
          ]
        }
      ]
    },
    {
      "cell_type": "code",
      "source": [
        "# print(w)"
      ],
      "metadata": {
        "id": "yRBtPYG2c9-d"
      },
      "execution_count": 41,
      "outputs": []
    },
    {
      "cell_type": "code",
      "source": [
        "pred = test_x_std_cubic @ w\n",
        "print(f\"prediction:\\n {pred}\")\n"
      ],
      "metadata": {
        "colab": {
          "base_uri": "https://localhost:8080/"
        },
        "id": "XeO6f4vNNMuK",
        "outputId": "80f0e3f6-b30f-4969-c87d-0b0c5632d0ba"
      },
      "execution_count": 44,
      "outputs": [
        {
          "output_type": "stream",
          "name": "stdout",
          "text": [
            "prediction:\n",
            " [[  45.84719945]\n",
            " [  50.55510691]\n",
            " [   9.47781833]\n",
            " [  23.62176654]\n",
            " [ -20.19232475]\n",
            " [  49.60034084]\n",
            " [ 119.99144611]\n",
            " [  17.3949887 ]\n",
            " [ 124.87883488]\n",
            " [  87.62907344]\n",
            " [ 120.21445619]\n",
            " [ 116.57534948]\n",
            " [  53.99790827]\n",
            " [  -2.5993565 ]\n",
            " [  61.82501524]\n",
            " [  59.98939605]\n",
            " [ -23.86384406]\n",
            " [  45.7616979 ]\n",
            " [  41.46209503]\n",
            " [  94.03043283]\n",
            " [  72.35192551]\n",
            " [  69.09409651]\n",
            " [  61.37915413]\n",
            " [   5.68083592]\n",
            " [  60.15787887]\n",
            " [  66.68030402]\n",
            " [  13.10122093]\n",
            " [ -19.62814538]\n",
            " [  12.21877153]\n",
            " [  59.93585175]\n",
            " [ 118.84117668]\n",
            " [  23.84811001]\n",
            " [  40.52951898]\n",
            " [  43.79447986]\n",
            " [  63.30032367]\n",
            " [  18.62917892]\n",
            " [ -10.69191041]\n",
            " [  68.98636334]\n",
            " [   5.65599243]\n",
            " [  54.66243249]\n",
            " [  10.83823226]\n",
            " [  26.31228682]\n",
            " [  -7.72989686]\n",
            " [  30.71087425]\n",
            " [  19.33590504]\n",
            " [  38.49654737]\n",
            " [ 111.24757192]\n",
            " [ -14.12426599]\n",
            " [ 100.44747041]\n",
            " [  24.77493105]\n",
            " [  89.61506807]\n",
            " [  -5.17743807]\n",
            " [ -12.75180679]\n",
            " [  41.69450743]\n",
            " [   2.92541624]\n",
            " [  -1.56793049]\n",
            " [  30.8315755 ]\n",
            " [ 105.84753942]\n",
            " [  87.54482527]\n",
            " [ -38.46377949]\n",
            " [  69.72541612]\n",
            " [ 102.58021781]\n",
            " [  12.38501052]\n",
            " [ -31.9298015 ]\n",
            " [ -23.60325314]\n",
            " [-106.83697701]\n",
            " [  -4.53013077]\n",
            " [  20.54344647]\n",
            " [   0.21794713]\n",
            " [  23.26450198]\n",
            " [  24.50419762]\n",
            " [  -2.76266289]\n",
            " [ 123.96168744]\n",
            " [  -0.90564184]\n",
            " [ 114.95527154]\n",
            " [   8.77520573]\n",
            " [  37.44088992]\n",
            " [ 109.19894137]\n",
            " [  76.41143613]\n",
            " [  18.92618488]\n",
            " [   0.65211953]\n",
            " [  28.33741189]\n",
            " [  23.21946589]\n",
            " [  88.77625686]\n",
            " [  38.70173165]\n",
            " [   8.97923098]\n",
            " [  38.00142376]\n",
            " [  19.79791101]\n",
            " [  17.48482776]\n",
            " [  56.41886516]\n",
            " [   9.88641787]\n",
            " [  58.59661407]\n",
            " [ 104.16148056]\n",
            " [ -18.81158425]\n",
            " [  21.61085589]\n",
            " [ -14.92045705]\n",
            " [  11.23970311]\n",
            " [ -25.13723878]\n",
            " [  98.76730946]\n",
            " [  34.52078407]\n",
            " [ -17.06268793]\n",
            " [  82.02615525]\n",
            " [  97.93854326]\n",
            " [ 125.89045842]\n",
            " [   4.70518454]\n",
            " [  74.98877834]\n",
            " [  34.12648313]\n",
            " [  36.31705163]\n",
            " [  38.97991587]\n",
            " [  85.26567399]\n",
            " [  22.01692031]\n",
            " [  30.15902277]\n",
            " [  33.44295296]\n",
            " [  91.70267134]\n",
            " [  15.60887702]\n",
            " [  83.46498595]\n",
            " [  30.59183166]\n",
            " [  35.50046244]\n",
            " [   3.58693484]\n",
            " [  46.86403319]\n",
            " [ -23.58665934]\n",
            " [ -19.89117813]\n",
            " [  33.80896737]\n",
            " [ -26.70594531]\n",
            " [  23.25656136]\n",
            " [ 105.18103053]\n",
            " [  57.41622359]\n",
            " [   4.84094705]\n",
            " [  50.02434109]\n",
            " [  26.07534806]\n",
            " [  -4.27450526]\n",
            " [  59.23833728]\n",
            " [  27.15117686]\n",
            " [  -1.91285054]\n",
            " [  43.67632733]\n",
            " [ 110.51017992]\n",
            " [  55.35505942]\n",
            " [ 115.55837159]\n",
            " [ 102.583091  ]\n",
            " [  69.3986121 ]\n",
            " [  62.08402948]\n",
            " [  25.71849883]\n",
            " [  63.17897699]\n",
            " [  61.53646862]\n",
            " [   9.90841574]\n",
            " [  96.43145727]\n",
            " [  53.64282575]\n",
            " [  26.21314099]\n",
            " [  41.23026778]\n",
            " [  22.13235995]\n",
            " [  30.90155581]\n",
            " [  34.59167326]\n",
            " [ -26.70921694]\n",
            " [ 127.3217418 ]\n",
            " [ -11.3373351 ]\n",
            " [  57.95023843]\n",
            " [  81.07661398]\n",
            " [  53.38553008]\n",
            " [  61.81934631]\n",
            " [ 105.6057538 ]\n",
            " [ 106.39076356]\n",
            " [ 114.95238429]\n",
            " [ -26.59955518]\n",
            " [ 108.21382877]\n",
            " [  32.40913231]\n",
            " [ -17.28312213]\n",
            " [ -16.80033626]\n",
            " [  45.01609834]\n",
            " [ 112.70561418]\n",
            " [ -21.96971445]\n",
            " [  53.74508354]\n",
            " [ -63.81765494]\n",
            " [   3.44161053]\n",
            " [  22.64169077]\n",
            " [ -12.83113638]\n",
            " [   4.05281096]\n",
            " [  28.70391718]\n",
            " [ -20.22087875]\n",
            " [   0.56885245]\n",
            " [  70.37811881]\n",
            " [  58.53328523]\n",
            " [  12.0411059 ]\n",
            " [  -8.40096156]\n",
            " [  -2.44109865]\n",
            " [  53.20097986]\n",
            " [ -13.25989396]\n",
            " [  67.73501042]\n",
            " [  16.84904319]\n",
            " [  38.30805791]\n",
            " [  77.20374151]\n",
            " [  25.60393731]\n",
            " [   6.9170603 ]\n",
            " [  18.28417519]\n",
            " [ 105.78280531]\n",
            " [   7.05966955]\n",
            " [  -6.06145611]\n",
            " [ -27.85074167]\n",
            " [ 131.91971455]\n",
            " [  19.82451484]\n",
            " [ -13.35315282]\n",
            " [  63.55221799]\n",
            " [ 119.69819692]\n",
            " [  31.14378443]\n",
            " [  15.95058724]\n",
            " [  22.61518897]\n",
            " [  62.00015506]\n",
            " [  17.4535133 ]\n",
            " [ 108.2138313 ]\n",
            " [ 114.16179523]\n",
            " [ 128.64449262]\n",
            " [  66.53398826]\n",
            " [  14.91906792]\n",
            " [  76.85001072]\n",
            " [  -8.85810725]\n",
            " [  47.70217235]\n",
            " [  11.3776959 ]\n",
            " [   2.82854149]\n",
            " [  96.82778127]\n",
            " [  31.76175299]\n",
            " [  13.74884299]\n",
            " [  62.13626211]\n",
            " [   0.61650782]\n",
            " [   7.40057764]\n",
            " [  27.50958084]\n",
            " [ -22.82735079]\n",
            " [  26.67423278]\n",
            " [ -11.66880357]\n",
            " [  58.73772313]\n",
            " [  84.79487819]\n",
            " [  93.76143201]\n",
            " [  -3.62451616]\n",
            " [  78.05759624]\n",
            " [  57.65065135]\n",
            " [   3.57872857]\n",
            " [   7.36016304]\n",
            " [  78.61673025]\n",
            " [ -23.82170739]\n",
            " [  96.36591774]\n",
            " [  37.16815632]\n",
            " [  75.09218374]\n",
            " [  94.64978054]\n",
            " [ -25.18688063]\n",
            " [  96.43303959]\n",
            " [ 120.68208948]\n",
            " [  10.39530144]\n",
            " [ 108.47563668]\n",
            " [  53.69561512]\n",
            " [  85.3774955 ]\n",
            " [ 102.98283104]\n",
            " [  70.93507976]\n",
            " [  69.6071153 ]\n",
            " [  27.24749854]\n",
            " [  13.38408174]\n",
            " [  72.72995338]\n",
            " [  39.89423891]\n",
            " [  -0.72333557]\n",
            " [ -11.88463647]\n",
            " [  85.81868732]\n",
            " [ -20.67242938]\n",
            " [  58.09305319]\n",
            " [  25.01404801]\n",
            " [   5.89400457]\n",
            " [  23.26740469]\n",
            " [ -21.60293775]\n",
            " [  93.49974195]\n",
            " [  73.92253399]\n",
            " [   0.6215597 ]\n",
            " [ 130.76480043]\n",
            " [  67.09440387]\n",
            " [  64.51025923]\n",
            " [  24.51909482]\n",
            " [ -18.38654931]\n",
            " [  57.24929193]\n",
            " [ -57.42408915]\n",
            " [ 111.63619573]\n",
            " [  19.07006364]\n",
            " [  70.09177358]\n",
            " [   5.70568   ]\n",
            " [  62.45766062]\n",
            " [ -39.8295846 ]\n",
            " [  18.22889274]\n",
            " [  18.01758452]\n",
            " [ 131.1750926 ]\n",
            " [ 102.51549559]\n",
            " [  31.99088959]\n",
            " [  21.94213999]\n",
            " [  39.28279777]\n",
            " [  11.8080506 ]\n",
            " [  29.57134857]\n",
            " [  53.72933722]\n",
            " [  29.10332813]\n",
            " [  34.88909728]\n",
            " [ -15.64210033]\n",
            " [ 113.11281977]\n",
            " [  82.82906507]\n",
            " [ -26.274222  ]\n",
            " [  70.94161791]\n",
            " [  23.21513323]\n",
            " [  27.47311828]\n",
            " [  18.53288891]\n",
            " [  69.68201616]\n",
            " [   3.87241342]\n",
            " [  86.66227772]\n",
            " [  75.36107652]\n",
            " [  19.1632941 ]\n",
            " [ -22.67575064]\n",
            " [  36.46063219]\n",
            " [  17.39743365]\n",
            " [  66.91334147]\n",
            " [  31.24329088]\n",
            " [  52.80866241]\n",
            " [  11.89350424]\n",
            " [  89.08575408]\n",
            " [ 123.28288365]\n",
            " [ 131.7717351 ]\n",
            " [ 109.38929139]\n",
            " [  97.3840804 ]\n",
            " [  31.32657815]\n",
            " [ 109.78816568]\n",
            " [  -7.44793639]\n",
            " [  94.52230033]\n",
            " [  81.1763418 ]\n",
            " [  23.00477652]\n",
            " [  25.12214871]\n",
            " [  24.50488894]\n",
            " [  21.54378901]\n",
            " [ -26.33009525]\n",
            " [  90.03287241]\n",
            " [  58.50889229]\n",
            " [  90.71388177]\n",
            " [  82.72536244]\n",
            " [  30.87284895]\n",
            " [ 102.91913515]\n",
            " [ 107.71841695]\n",
            " [  10.53066652]\n",
            " [   3.42438669]\n",
            " [ 124.95779085]\n",
            " [  -8.22861742]\n",
            " [  42.54626136]\n",
            " [  10.1022813 ]\n",
            " [  81.27326104]\n",
            " [ -27.12492798]\n",
            " [  56.6516185 ]\n",
            " [  -0.37412805]\n",
            " [  40.00207202]\n",
            " [  -2.38177781]\n",
            " [ 109.30211897]\n",
            " [ -24.20605123]\n",
            " [  59.33786549]\n",
            " [  64.85503025]\n",
            " [ -21.8019691 ]\n",
            " [  74.44527861]\n",
            " [  -1.30705544]\n",
            " [  -7.79530855]\n",
            " [ 124.82184406]\n",
            " [  39.01038595]\n",
            " [ -10.56603349]\n",
            " [  26.75076887]\n",
            " [  19.48467878]\n",
            " [  12.37977068]\n",
            " [  19.48408192]\n",
            " [  19.98055529]\n",
            " [  19.14245913]\n",
            " [  32.43090446]\n",
            " [   8.06118496]\n",
            " [ -16.2327391 ]\n",
            " [  87.16334373]\n",
            " [ 121.47471091]\n",
            " [  36.83186483]\n",
            " [  62.96035636]\n",
            " [  74.56813832]\n",
            " [  -9.5593513 ]\n",
            " [  18.73653099]\n",
            " [  -1.00870359]\n",
            " [  26.35349857]\n",
            " [  26.71130406]\n",
            " [ -18.84693706]\n",
            " [  16.45330758]\n",
            " [ 112.57370975]\n",
            " [ -19.47110248]\n",
            " [  38.32520303]\n",
            " [  11.75286334]\n",
            " [  11.711716  ]\n",
            " [  70.15142168]\n",
            " [ -18.44651252]\n",
            " [  11.19157413]\n",
            " [ 123.17089068]\n",
            " [ 100.58227331]\n",
            " [  60.05744538]\n",
            " [  -7.42110192]\n",
            " [ 121.45972401]\n",
            " [ -10.00387317]\n",
            " [   0.75218491]\n",
            " [  12.89308623]\n",
            " [  50.832143  ]\n",
            " [  33.21880671]\n",
            " [ 129.78792851]\n",
            " [  47.67000287]\n",
            " [ 119.52117287]\n",
            " [  35.88700313]\n",
            " [  52.43071184]\n",
            " [  70.35433126]\n",
            " [  89.01025419]\n",
            " [ 114.8242553 ]\n",
            " [ -13.95469724]\n",
            " [  -5.91429895]\n",
            " [  24.86414789]\n",
            " [  27.93571127]\n",
            " [  -9.75123552]\n",
            " [  30.15874684]\n",
            " [   2.7388623 ]\n",
            " [   4.63170189]\n",
            " [  21.567991  ]\n",
            " [  61.76735094]\n",
            " [  40.37330533]\n",
            " [  90.43931296]\n",
            " [ 132.15385704]\n",
            " [  93.92077208]\n",
            " [  15.38928197]\n",
            " [ 105.10230107]\n",
            " [ 118.0318855 ]\n",
            " [  88.29626165]\n",
            " [  25.37571256]\n",
            " [  -9.33801831]\n",
            " [ 111.69638986]\n",
            " [  -5.84118797]\n",
            " [  -1.25063452]\n",
            " [  59.81183713]\n",
            " [  28.50728426]\n",
            " [  47.37696786]\n",
            " [ -15.91015283]\n",
            " [ -18.93726818]\n",
            " [  85.27036579]\n",
            " [  99.45772821]\n",
            " [  69.94083087]\n",
            " [ -12.75010745]\n",
            " [  60.71003861]\n",
            " [  56.04855091]\n",
            " [   1.65423982]\n",
            " [  13.47232808]\n",
            " [  11.96580084]\n",
            " [   8.97909074]\n",
            " [ -25.62380924]\n",
            " [  46.96138386]\n",
            " [  26.31569137]\n",
            " [ -37.99114442]\n",
            " [  11.48792303]\n",
            " [  38.09199028]\n",
            " [  77.54131477]\n",
            " [ -19.94831396]\n",
            " [  41.23651199]\n",
            " [  -9.22737091]\n",
            " [  -1.37563025]\n",
            " [   4.83836548]\n",
            " [  -7.48966001]\n",
            " [   7.53710313]\n",
            " [  -7.70881306]\n",
            " [   9.21456785]\n",
            " [   8.70912282]\n",
            " [  67.34845969]\n",
            " [ 108.56968627]\n",
            " [  68.52615912]\n",
            " [ 120.5194538 ]\n",
            " [ -13.60256169]\n",
            " [  55.45089057]\n",
            " [  51.52404538]\n",
            " [ -15.13575507]\n",
            " [  70.57900071]\n",
            " [ 127.74472422]\n",
            " [ 117.1490812 ]\n",
            " [  78.2208531 ]\n",
            " [  69.03452276]\n",
            " [  10.47828987]\n",
            " [ -36.5159516 ]\n",
            " [  53.08333186]\n",
            " [ -17.55183793]\n",
            " [  33.50079221]\n",
            " [  29.67718211]\n",
            " [  -5.42980283]\n",
            " [ 106.55344262]\n",
            " [  27.60208044]\n",
            " [ 102.37372414]\n",
            " [   9.4953915 ]\n",
            " [  75.98953311]\n",
            " [ 104.10224393]\n",
            " [  -4.94302813]\n",
            " [   2.80768989]\n",
            " [ 126.17291339]\n",
            " [  26.31826865]\n",
            " [  54.21986641]\n",
            " [ 102.69946256]\n",
            " [ 114.20625831]\n",
            " [   7.59201996]\n",
            " [  30.71605378]\n",
            " [  67.00025063]\n",
            " [  30.95319874]\n",
            " [  15.59815517]\n",
            " [ 114.01471585]\n",
            " [ 100.92694202]\n",
            " [  29.87571418]]\n"
          ]
        }
      ]
    },
    {
      "cell_type": "code",
      "source": [
        "# print(pred)"
      ],
      "metadata": {
        "id": "H2OMjDMgdwZh"
      },
      "execution_count": null,
      "outputs": []
    },
    {
      "cell_type": "markdown",
      "source": [
        "##(f) standardization, compute and output the root mean squared"
      ],
      "metadata": {
        "id": "iMezP8vrOPUy"
      }
    },
    {
      "cell_type": "code",
      "source": [
        "rms = np.sqrt(np.mean((pred-test_y.reshape(-1,1))**2,axis=0))\n",
        "print(f\"rms {rms}\")"
      ],
      "metadata": {
        "colab": {
          "base_uri": "https://localhost:8080/"
        },
        "id": "3cWAqmoCLoSc",
        "outputId": "f9911786-69cb-4d69-cf86-9a931c5aa738"
      },
      "execution_count": null,
      "outputs": [
        {
          "output_type": "stream",
          "name": "stdout",
          "text": [
            "rms [18.91742004]\n"
          ]
        }
      ]
    },
    {
      "cell_type": "markdown",
      "source": [
        "##(g) visualize the ground-truth vs. your model’s prediction on a square-axis R-squared plot s"
      ],
      "metadata": {
        "id": "dQA8A2B2OWnt"
      }
    },
    {
      "cell_type": "code",
      "source": [
        "def R_cal(pred,test_y):\n",
        "  ssres = np.sum((pred-test_y.reshape(-1,1))**2)\n",
        "  y_mean = np.mean(test_y)\n",
        "\n",
        "  sstot = np.sum((test_y.reshape(-1,1)-y_mean)**2)\n",
        "  R_2 = 1- ssres/sstot\n",
        "  return R_2\n",
        "def R_adj_cal(pred,test_y):\n",
        "  ssres = np.sum((pred-test_y.reshape(-1,1))**2)\n",
        "  y_mean = np.mean(test_y)\n",
        "\n",
        "  sstot = np.sum((test_y.reshape(-1,1)-y_mean)**2)\n",
        "  R_2 = 1- ssres/sstot\n",
        "  R_adj = 1-(1-R_2)*(len(pred)-1)/(len(pred)-1-2)\n",
        "  return R_adj"
      ],
      "metadata": {
        "id": "38jbgZJ3Ny3C"
      },
      "execution_count": 45,
      "outputs": []
    },
    {
      "cell_type": "code",
      "source": [
        "R_2 = R_cal(pred,test_y)\n",
        "print(f\"R_2 {R_2}\")\n",
        "R_adj = R_adj_cal(pred,test_y)\n",
        "print(f\"R_adj {R_adj}\")"
      ],
      "metadata": {
        "colab": {
          "base_uri": "https://localhost:8080/"
        },
        "id": "Uuu-hVlfQvFt",
        "outputId": "abb9487e-f171-4704-8190-7e168b980041"
      },
      "execution_count": 46,
      "outputs": [
        {
          "output_type": "stream",
          "name": "stdout",
          "text": [
            "R_2 0.8459503878948689\n",
            "R_adj 0.8453304699387114\n"
          ]
        }
      ]
    },
    {
      "cell_type": "code",
      "source": [
        "def r_plot(r_value, pred,test_y):\n",
        "  # ax.set_aspect('equal', adjustable='box')\n",
        "  # plt.figure(figsize=(6,6))\n",
        "  fig, ax = plt.subplots(figsize=(6, 6))\n",
        "  # ax.plot(test_y,test_y)\n",
        "  ax.plot([0,1],[0,1],transform=ax.transAxes,c='blue')\n",
        "  ax.scatter(test_y,pred,c=\"green\",s=10,marker='*')\n",
        "  ax.annotate(\"R-squared = {:.3f}\\nR-ajusted-squared = {:.3f}\".format(R_2,R_adj), (-100, 150))\n",
        "\n",
        "  plt.xlim([-120, 180])\n",
        "  plt.ylim([-120, 180])\n",
        "  plt.xlabel('Ground truth')\n",
        "  plt.ylabel('Prediction')\n",
        "  \n",
        "  plt.show()\n",
        "r_plot(R_2, pred,test_y)"
      ],
      "metadata": {
        "colab": {
          "base_uri": "https://localhost:8080/",
          "height": 388
        },
        "id": "ivZP1SL6RzEv",
        "outputId": "dfd2bb40-69fa-44fc-e756-7d97be1c34b1"
      },
      "execution_count": 47,
      "outputs": [
        {
          "output_type": "display_data",
          "data": {
            "image/png": "[encoded data removed]",
            "text/plain": [
              "<Figure size 432x432 with 1 Axes>"
            ]
          },
          "metadata": {
            "needs_background": "light"
          }
        }
      ]
    },
    {
      "cell_type": "markdown",
      "source": [
        "##(h) Plot your model’s predictions as a surface."
      ],
      "metadata": {
        "id": "5aaag_orOmdp"
      }
    },
    {
      "cell_type": "code",
      "source": [
        "max_x =np.max(test_x,axis=0)\n",
        "min_x =np.min(test_x,axis=0)\n",
        "x1_before_mesh = np.linspace(min_x[0],max_x[0],100)\n",
        "x2_before_mesh = np.linspace(min_x[1],max_x[1],100)\n",
        "xx1,xx2 = np.meshgrid(x1_before_mesh,x2_before_mesh)\n",
        "print(f\"xx1.shape {xx1.shape}\")\n",
        "xx1_1 = xx1.reshape(-1,1)\n",
        "xx2_1 = xx2.reshape(-1,1)\n",
        "mesh_x = np.hstack((xx1_1,xx2_1))\n",
        "_,mesh_std_x =standardization(train_x,test_x=mesh_x)\n",
        "mesh_std_cubic_x = map_feature(mesh_std_x)\n",
        "pred = mesh_std_cubic_x @ w\n",
        "# plt.scatter(xx1_1,xx2_1,c=pred)\n",
        "\n",
        "print(f\"pred.shape {pred.shape}\")"
      ],
      "metadata": {
        "colab": {
          "base_uri": "https://localhost:8080/"
        },
        "id": "8EvbfM2Ilmw1",
        "outputId": "63df7209-0895-4153-bd41-77e8c764e2ae"
      },
      "execution_count": 48,
      "outputs": [
        {
          "output_type": "stream",
          "name": "stdout",
          "text": [
            "xx1.shape (100, 100)\n",
            "u.shape (2,) std.shape (2,)\n",
            "(10000, 10)\n",
            "pred.shape (10000, 1)\n"
          ]
        }
      ]
    },
    {
      "cell_type": "code",
      "source": [
        "print(f\"xx1_1,xx2_1,pred {xx1_1.shape} {xx2_1.shape} {pred.shape}\")"
      ],
      "metadata": {
        "colab": {
          "base_uri": "https://localhost:8080/"
        },
        "id": "X-Sr-U2sqWyz",
        "outputId": "c6bb2525-3b0c-4215-a652-9a187fdf85c7"
      },
      "execution_count": 49,
      "outputs": [
        {
          "output_type": "stream",
          "name": "stdout",
          "text": [
            "xx1_1,xx2_1,pred (10000, 1) (10000, 1) (10000, 1)\n"
          ]
        }
      ]
    },
    {
      "cell_type": "code",
      "source": [
        "from matplotlib import cm\n",
        "\n",
        "fig, ax = plt.subplots(subplot_kw={\"projection\": \"3d\"})\n",
        "\n",
        "# Plot the surface.\n",
        "surf = ax.plot_surface(xx1,xx2,pred.reshape(xx1.shape), cmap=cm.coolwarm,\n",
        "                       linewidth=0, antialiased=False)\n",
        "ax.scatter(test_x[:,0].reshape(-1,1),test_x[:,1].reshape(-1,1),test_y.reshape(-1,1),label=\"ground truth\")\n",
        "ax.legend()\n",
        "cbar =fig.colorbar(surf, shrink=0.5, aspect=5)\n",
        "cbar.ax.set_ylabel('predition surface', rotation=270)\n",
        "ax.set(xlabel='x1',ylabel=\"x2\",zlabel=\"y\")\n",
        "plt.show()\n"
      ],
      "metadata": {
        "colab": {
          "base_uri": "https://localhost:8080/",
          "height": 248
        },
        "id": "wSQafjMzpZsN",
        "outputId": "01c76389-b7f5-47ea-8e7d-538bcdb5cbf8"
      },
      "execution_count": 51,
      "outputs": [
        {
          "output_type": "display_data",
          "data": {
            "image/png": "[encoded data removed]",
            "text/plain": [
              "<Figure size 432x288 with 2 Axes>"
            ]
          },
          "metadata": {
            "needs_background": "light"
          }
        }
      ]
    },
    {
      "cell_type": "markdown",
      "source": [
        "##Q3: K-Nearest Neighbors"
      ],
      "metadata": {
        "id": "FipU6vt2ulG1"
      }
    },
    {
      "cell_type": "markdown",
      "source": [
        "##(a). k=1, output your model’s prediction"
      ],
      "metadata": {
        "id": "ZN-odGeZBCyT"
      }
    },
    {
      "cell_type": "code",
      "source": [
        "def distance(point,train_x,k=1):\n",
        "  distance_lst = (np.sum((train_x-point)**2,axis=1))**(0.5)\n",
        "  # print(((train_x-point)**2).shape)\n",
        "  # print(distance_lst.shape)\n",
        "  # lst = np.argpartition(distance_lst,k)[-k:]\n",
        "  lst = (distance_lst).argsort()[:k]\n",
        "  # print(lst)\n",
        "  # print(np.argpartition(distance_lst, -k))\n",
        "  # print()\n",
        "  # print(lst)\n",
        "  # print(np.argmin(distance_lst))\n",
        "  # print(lst)\n",
        "  # return np.argmin(distance_lst)\n",
        "  return lst\n",
        "def knn(test_x,train_x,train_y,k=1):\n",
        "\n",
        "  n = len(test_x)\n",
        "  ans_y =[]\n",
        "  for i in range(n):\n",
        "    # print(train_y[distance(test_x[i],train_x,k=k)])\n",
        "    # print(np.mean(train_y[distance(test_x[i],train_x,k=k)]))\n",
        "    ans_y.append(np.mean(train_y[distance(test_x[i],train_x,k=k)]))\n",
        "    # break\n",
        "  ans_y = np.array(ans_y).reshape(-1,1)\n",
        "  return ans_y\n",
        "# print()\n",
        "pred = knn(test_x_std,train_x_std,train_y)\n",
        "# distance([1,1],train_x)\n",
        "# print(pred)  \n"
      ],
      "metadata": {
        "id": "6p_q9-cAukBh"
      },
      "execution_count": 52,
      "outputs": []
    },
    {
      "cell_type": "code",
      "source": [
        "print(f\"prediction:\\n {pred}\")"
      ],
      "metadata": {
        "colab": {
          "base_uri": "https://localhost:8080/"
        },
        "id": "YCaMdhkrPBzB",
        "outputId": "cd1d011e-a3c8-4218-ed2c-ab6db37ecde2"
      },
      "execution_count": 53,
      "outputs": [
        {
          "output_type": "stream",
          "name": "stdout",
          "text": [
            "prediction:\n",
            " [[ 46.654362  ]\n",
            " [  0.        ]\n",
            " [  7.1521917 ]\n",
            " [ 24.370017  ]\n",
            " [  0.        ]\n",
            " [ 33.337457  ]\n",
            " [144.52735   ]\n",
            " [ 15.109646  ]\n",
            " [153.40393   ]\n",
            " [  0.        ]\n",
            " [142.61515   ]\n",
            " [128.09012   ]\n",
            " [ 28.046865  ]\n",
            " [  0.        ]\n",
            " [ 51.508358  ]\n",
            " [ 76.380951  ]\n",
            " [  0.        ]\n",
            " [ 25.31819   ]\n",
            " [  0.        ]\n",
            " [ 95.682133  ]\n",
            " [ 93.081843  ]\n",
            " [ 68.97523   ]\n",
            " [ 74.780909  ]\n",
            " [-13.244251  ]\n",
            " [ 61.229556  ]\n",
            " [ 87.382913  ]\n",
            " [  0.        ]\n",
            " [  0.        ]\n",
            " [ 21.212106  ]\n",
            " [  0.        ]\n",
            " [131.09564   ]\n",
            " [ 38.130992  ]\n",
            " [ 54.611123  ]\n",
            " [ 59.511669  ]\n",
            " [  0.        ]\n",
            " [  0.        ]\n",
            " [  0.        ]\n",
            " [  0.        ]\n",
            " [  0.        ]\n",
            " [ 69.438298  ]\n",
            " [-14.578794  ]\n",
            " [ 34.096713  ]\n",
            " [  0.        ]\n",
            " [ 22.536151  ]\n",
            " [  5.3627958 ]\n",
            " [ 54.611123  ]\n",
            " [136.75422   ]\n",
            " [ -4.8792703 ]\n",
            " [102.3278    ]\n",
            " [ 26.40769   ]\n",
            " [111.47157   ]\n",
            " [  0.        ]\n",
            " [  0.        ]\n",
            " [ 42.484169  ]\n",
            " [  0.        ]\n",
            " [ -6.8399453 ]\n",
            " [ 34.685646  ]\n",
            " [113.25884   ]\n",
            " [ 42.18141   ]\n",
            " [-23.569753  ]\n",
            " [  7.7651038 ]\n",
            " [ 99.772198  ]\n",
            " [  0.        ]\n",
            " [-16.333704  ]\n",
            " [-30.840214  ]\n",
            " [-43.563548  ]\n",
            " [  0.        ]\n",
            " [ 32.733838  ]\n",
            " [  4.1260274 ]\n",
            " [ 20.705183  ]\n",
            " [ 27.267181  ]\n",
            " [ -6.8399453 ]\n",
            " [142.34862   ]\n",
            " [  0.        ]\n",
            " [128.22584   ]\n",
            " [  0.        ]\n",
            " [ 50.459331  ]\n",
            " [115.37025   ]\n",
            " [ 72.074261  ]\n",
            " [  0.        ]\n",
            " [  0.        ]\n",
            " [ 22.536151  ]\n",
            " [ 28.424086  ]\n",
            " [ 63.823747  ]\n",
            " [ 42.565766  ]\n",
            " [  8.5181495 ]\n",
            " [  0.        ]\n",
            " [ 29.522543  ]\n",
            " [ 23.740543  ]\n",
            " [ 40.118857  ]\n",
            " [  0.        ]\n",
            " [ 28.062067  ]\n",
            " [126.92725   ]\n",
            " [  0.        ]\n",
            " [ 15.109646  ]\n",
            " [  0.        ]\n",
            " [  0.        ]\n",
            " [  0.        ]\n",
            " [ 60.509676  ]\n",
            " [  0.        ]\n",
            " [  0.        ]\n",
            " [ 42.18141   ]\n",
            " [104.41837   ]\n",
            " [153.75884   ]\n",
            " [-10.742333  ]\n",
            " [ 99.016076  ]\n",
            " [ 28.427519  ]\n",
            " [ 21.769265  ]\n",
            " [ 49.108643  ]\n",
            " [100.60406   ]\n",
            " [ 23.735273  ]\n",
            " [ 33.601418  ]\n",
            " [ 44.706826  ]\n",
            " [ 54.232323  ]\n",
            " [  0.        ]\n",
            " [ 63.823747  ]\n",
            " [ 14.765056  ]\n",
            " [ 18.919128  ]\n",
            " [  0.        ]\n",
            " [ 59.328802  ]\n",
            " [  0.        ]\n",
            " [  0.        ]\n",
            " [ 43.620068  ]\n",
            " [  0.        ]\n",
            " [  0.        ]\n",
            " [127.85433   ]\n",
            " [ 65.411986  ]\n",
            " [  0.        ]\n",
            " [ 27.729885  ]\n",
            " [ 21.613342  ]\n",
            " [  0.        ]\n",
            " [ 53.343461  ]\n",
            " [  0.        ]\n",
            " [  0.        ]\n",
            " [ 35.816298  ]\n",
            " [113.14959   ]\n",
            " [  0.        ]\n",
            " [140.67075   ]\n",
            " [104.55004   ]\n",
            " [ 67.694547  ]\n",
            " [ 35.246013  ]\n",
            " [ 12.111767  ]\n",
            " [ 40.887883  ]\n",
            " [ 35.246013  ]\n",
            " [  0.        ]\n",
            " [116.61377   ]\n",
            " [ 28.701227  ]\n",
            " [ 28.427519  ]\n",
            " [ 55.542089  ]\n",
            " [ 25.210441  ]\n",
            " [ 32.97707   ]\n",
            " [ 50.957302  ]\n",
            " [  0.        ]\n",
            " [157.7904    ]\n",
            " [  0.        ]\n",
            " [  0.        ]\n",
            " [ 99.016076  ]\n",
            " [ 65.411986  ]\n",
            " [  7.7651038 ]\n",
            " [ 96.694178  ]\n",
            " [ 99.818248  ]\n",
            " [125.26256   ]\n",
            " [  0.        ]\n",
            " [125.77115   ]\n",
            " [ 31.753558  ]\n",
            " [-12.811856  ]\n",
            " [  0.        ]\n",
            " [  0.        ]\n",
            " [103.9735    ]\n",
            " [  0.        ]\n",
            " [  0.        ]\n",
            " [-38.085938  ]\n",
            " [  0.        ]\n",
            " [ 24.948276  ]\n",
            " [  0.        ]\n",
            " [  0.        ]\n",
            " [ 28.507139  ]\n",
            " [-14.7366    ]\n",
            " [  2.0210422 ]\n",
            " [ 48.754989  ]\n",
            " [ 58.143788  ]\n",
            " [  8.5181495 ]\n",
            " [-11.274656  ]\n",
            " [  0.        ]\n",
            " [ 30.829662  ]\n",
            " [  0.        ]\n",
            " [ 76.101188  ]\n",
            " [  4.1860709 ]\n",
            " [  0.        ]\n",
            " [ 81.608385  ]\n",
            " [ 27.545061  ]\n",
            " [  0.        ]\n",
            " [ 17.144932  ]\n",
            " [132.66039   ]\n",
            " [  0.        ]\n",
            " [  0.        ]\n",
            " [-18.432714  ]\n",
            " [155.75096   ]\n",
            " [ 27.658555  ]\n",
            " [  0.        ]\n",
            " [ 77.871924  ]\n",
            " [137.61895   ]\n",
            " [ 38.948106  ]\n",
            " [  0.        ]\n",
            " [ 29.522543  ]\n",
            " [ 46.944801  ]\n",
            " [  9.3832801 ]\n",
            " [118.10953   ]\n",
            " [135.33714   ]\n",
            " [144.17621   ]\n",
            " [ 62.693318  ]\n",
            " [  7.3553483 ]\n",
            " [  0.        ]\n",
            " [-17.013188  ]\n",
            " [ 49.847255  ]\n",
            " [  4.1860709 ]\n",
            " [  0.        ]\n",
            " [ 96.52298   ]\n",
            " [  5.3449443 ]\n",
            " [  5.3627958 ]\n",
            " [ 47.372617  ]\n",
            " [ -3.701137  ]\n",
            " [  7.3553483 ]\n",
            " [ 14.536576  ]\n",
            " [  0.        ]\n",
            " [ 40.224117  ]\n",
            " [  0.        ]\n",
            " [ 77.641407  ]\n",
            " [ 81.042153  ]\n",
            " [103.75853   ]\n",
            " [ -3.701137  ]\n",
            " [ 82.255209  ]\n",
            " [  0.        ]\n",
            " [  0.        ]\n",
            " [  0.        ]\n",
            " [106.95103   ]\n",
            " [  0.        ]\n",
            " [ 96.694178  ]\n",
            " [ 32.97707   ]\n",
            " [ 93.081843  ]\n",
            " [116.3454    ]\n",
            " [  0.        ]\n",
            " [104.41837   ]\n",
            " [147.67665   ]\n",
            " [  0.        ]\n",
            " [118.10953   ]\n",
            " [  7.7651038 ]\n",
            " [111.47157   ]\n",
            " [113.17284   ]\n",
            " [ 60.009518  ]\n",
            " [ 82.230176  ]\n",
            " [ 23.97916   ]\n",
            " [  0.        ]\n",
            " [ 39.20169   ]\n",
            " [ 50.424422  ]\n",
            " [-13.244251  ]\n",
            " [ -0.17180446]\n",
            " [ 75.732907  ]\n",
            " [-22.927473  ]\n",
            " [ 31.059678  ]\n",
            " [ 27.545061  ]\n",
            " [  0.        ]\n",
            " [ 38.130992  ]\n",
            " [  0.        ]\n",
            " [116.3454    ]\n",
            " [ 75.83036   ]\n",
            " [  0.        ]\n",
            " [154.57491   ]\n",
            " [ 34.384734  ]\n",
            " [ 51.508358  ]\n",
            " [ 21.613342  ]\n",
            " [  0.        ]\n",
            " [ 65.514922  ]\n",
            " [-42.739496  ]\n",
            " [125.66869   ]\n",
            " [ 14.13978   ]\n",
            " [ 76.768456  ]\n",
            " [  0.        ]\n",
            " [ 49.709709  ]\n",
            " [-15.906859  ]\n",
            " [ 19.904295  ]\n",
            " [  9.3832801 ]\n",
            " [151.60396   ]\n",
            " [126.64595   ]\n",
            " [ 21.769265  ]\n",
            " [  0.        ]\n",
            " [ 20.136927  ]\n",
            " [ 18.340515  ]\n",
            " [ 40.692829  ]\n",
            " [ 73.640503  ]\n",
            " [ 26.40769   ]\n",
            " [ 34.5852    ]\n",
            " [-22.927473  ]\n",
            " [135.33714   ]\n",
            " [ 42.18141   ]\n",
            " [  0.        ]\n",
            " [ 85.049618  ]\n",
            " [ 14.141652  ]\n",
            " [ 18.127951  ]\n",
            " [ 21.226142  ]\n",
            " [ 60.254197  ]\n",
            " [  0.        ]\n",
            " [ 63.823747  ]\n",
            " [ 62.311557  ]\n",
            " [ 10.643946  ]\n",
            " [-13.846315  ]\n",
            " [ 50.957302  ]\n",
            " [ 22.034881  ]\n",
            " [ 85.049618  ]\n",
            " [ 19.473641  ]\n",
            " [  0.        ]\n",
            " [  0.        ]\n",
            " [104.64157   ]\n",
            " [132.65835   ]\n",
            " [155.75096   ]\n",
            " [132.66039   ]\n",
            " [ 94.631536  ]\n",
            " [  6.8936734 ]\n",
            " [125.77115   ]\n",
            " [  0.        ]\n",
            " [ 76.537026  ]\n",
            " [100.74828   ]\n",
            " [ 34.263898  ]\n",
            " [ 29.266366  ]\n",
            " [  5.3449443 ]\n",
            " [ 17.38906   ]\n",
            " [  0.        ]\n",
            " [ 94.631536  ]\n",
            " [ 65.800048  ]\n",
            " [114.61673   ]\n",
            " [ 78.241176  ]\n",
            " [ 11.801037  ]\n",
            " [111.03664   ]\n",
            " [119.19756   ]\n",
            " [  1.9007737 ]\n",
            " [  0.        ]\n",
            " [150.88012   ]\n",
            " [  0.        ]\n",
            " [ 52.036029  ]\n",
            " [  5.1498581 ]\n",
            " [ 75.732907  ]\n",
            " [  0.        ]\n",
            " [ 77.641407  ]\n",
            " [  0.        ]\n",
            " [ 41.566963  ]\n",
            " [  0.        ]\n",
            " [122.40403   ]\n",
            " [  0.        ]\n",
            " [ 77.641407  ]\n",
            " [ 38.71872   ]\n",
            " [  0.        ]\n",
            " [  0.        ]\n",
            " [  0.        ]\n",
            " [  0.        ]\n",
            " [148.86808   ]\n",
            " [  0.        ]\n",
            " [-14.039282  ]\n",
            " [ 26.090549  ]\n",
            " [ 14.002587  ]\n",
            " [  0.        ]\n",
            " [  8.7123916 ]\n",
            " [  8.7123916 ]\n",
            " [ 23.740543  ]\n",
            " [ 45.676013  ]\n",
            " [  0.        ]\n",
            " [  0.        ]\n",
            " [ 61.186301  ]\n",
            " [150.25452   ]\n",
            " [ 18.919128  ]\n",
            " [ 43.129914  ]\n",
            " [ 51.662453  ]\n",
            " [  0.        ]\n",
            " [ 17.144932  ]\n",
            " [  3.2061144 ]\n",
            " [ 34.096713  ]\n",
            " [ 39.645469  ]\n",
            " [  0.        ]\n",
            " [ 17.241655  ]\n",
            " [128.77913   ]\n",
            " [-26.533173  ]\n",
            " [ 48.889629  ]\n",
            " [  0.        ]\n",
            " [-14.578794  ]\n",
            " [ 65.822125  ]\n",
            " [  0.        ]\n",
            " [  0.        ]\n",
            " [150.88012   ]\n",
            " [ 98.705231  ]\n",
            " [ 25.002169  ]\n",
            " [-10.742333  ]\n",
            " [144.8443    ]\n",
            " [  0.        ]\n",
            " [  0.        ]\n",
            " [ -2.1433615 ]\n",
            " [ 13.5017    ]\n",
            " [  0.        ]\n",
            " [155.58033   ]\n",
            " [ 55.542089  ]\n",
            " [144.8443    ]\n",
            " [ 47.506388  ]\n",
            " [ 24.301641  ]\n",
            " [ 85.549418  ]\n",
            " [102.3278    ]\n",
            " [128.77913   ]\n",
            " [  0.        ]\n",
            " [  0.        ]\n",
            " [ 27.545061  ]\n",
            " [ 32.97707   ]\n",
            " [  0.        ]\n",
            " [ 20.654267  ]\n",
            " [  0.        ]\n",
            " [  0.        ]\n",
            " [ 22.679611  ]\n",
            " [  0.        ]\n",
            " [ 25.31819   ]\n",
            " [ 86.847421  ]\n",
            " [155.58033   ]\n",
            " [ 59.711212  ]\n",
            " [ 18.340515  ]\n",
            " [107.83341   ]\n",
            " [132.49978   ]\n",
            " [ 80.223089  ]\n",
            " [ 30.831775  ]\n",
            " [  0.        ]\n",
            " [115.56246   ]\n",
            " [-14.572871  ]\n",
            " [  0.        ]\n",
            " [ 65.800048  ]\n",
            " [ 30.831775  ]\n",
            " [  0.        ]\n",
            " [  0.        ]\n",
            " [  0.        ]\n",
            " [ 62.508397  ]\n",
            " [121.82908   ]\n",
            " [ 76.575584  ]\n",
            " [  0.        ]\n",
            " [ 47.372617  ]\n",
            " [ 43.129914  ]\n",
            " [  0.        ]\n",
            " [ 19.380858  ]\n",
            " [ 11.475198  ]\n",
            " [  0.        ]\n",
            " [  0.        ]\n",
            " [ 25.31819   ]\n",
            " [ 41.183427  ]\n",
            " [-12.811856  ]\n",
            " [  0.        ]\n",
            " [ 47.506388  ]\n",
            " [ 72.329024  ]\n",
            " [-23.977402  ]\n",
            " [ 16.863172  ]\n",
            " [  0.        ]\n",
            " [  0.        ]\n",
            " [  0.        ]\n",
            " [  0.        ]\n",
            " [  0.        ]\n",
            " [-11.274656  ]\n",
            " [  0.        ]\n",
            " [  0.        ]\n",
            " [  0.        ]\n",
            " [123.88244   ]\n",
            " [ 77.035476  ]\n",
            " [128.77913   ]\n",
            " [-14.039282  ]\n",
            " [  0.        ]\n",
            " [ 40.228091  ]\n",
            " [  0.        ]\n",
            " [ 35.542706  ]\n",
            " [144.17621   ]\n",
            " [136.60926   ]\n",
            " [ 90.302352  ]\n",
            " [ 60.009518  ]\n",
            " [  0.        ]\n",
            " [-30.840214  ]\n",
            " [ 73.67637   ]\n",
            " [  0.        ]\n",
            " [ 47.506388  ]\n",
            " [ 40.224117  ]\n",
            " [  0.        ]\n",
            " [128.26892   ]\n",
            " [ 32.710205  ]\n",
            " [102.33176   ]\n",
            " [  0.        ]\n",
            " [ 99.016076  ]\n",
            " [106.12074   ]\n",
            " [-14.599333  ]\n",
            " [  0.        ]\n",
            " [143.95223   ]\n",
            " [ 24.076292  ]\n",
            " [ 40.118857  ]\n",
            " [111.03664   ]\n",
            " [124.96967   ]\n",
            " [  0.        ]\n",
            " [  0.        ]\n",
            " [ 65.800048  ]\n",
            " [ 34.263898  ]\n",
            " [  6.9817683 ]\n",
            " [144.92634   ]\n",
            " [ 99.772198  ]\n",
            " [ 18.950051  ]]\n"
          ]
        }
      ]
    },
    {
      "cell_type": "code",
      "source": [
        "# rms = np.sqrt(np.mean((pred-test_y.reshape(-1,1))**2,axis=0))\n",
        "# print(f\"rms {rms}\")"
      ],
      "metadata": {
        "id": "tVgiUJZ1bhUo"
      },
      "execution_count": 55,
      "outputs": []
    },
    {
      "cell_type": "markdown",
      "source": [
        "##(b). k=1, plot prediction and ground truth"
      ],
      "metadata": {
        "id": "BLR6vrYsBGP0"
      }
    },
    {
      "cell_type": "code",
      "source": [
        "pred = knn(mesh_std_x,train_x_std,train_y)\n",
        "# print(f\"prediction\")"
      ],
      "metadata": {
        "id": "4akr-q2g3prw"
      },
      "execution_count": 56,
      "outputs": []
    },
    {
      "cell_type": "code",
      "source": [
        "from matplotlib import cm\n",
        "fig, ax = plt.subplots(subplot_kw={\"projection\": \"3d\"})\n",
        "\n",
        "# Plot the surface.\n",
        "surf = ax.plot_surface(xx1,xx2,pred.reshape(xx1.shape), cmap=cm.coolwarm,\n",
        "                       linewidth=0, antialiased=False)\n",
        "ax.scatter(test_x[:,0].reshape(-1,1),test_x[:,1].reshape(-1,1),test_y.reshape(-1,1),label=\"ground truth\")\n",
        "ax.legend()\n",
        "cbar =fig.colorbar(surf, shrink=0.5, aspect=5)\n",
        "cbar.ax.set_ylabel('predition surface', rotation=270)\n",
        "ax.set(xlabel='x1',ylabel=\"x2\",zlabel=\"y\")\n",
        "plt.show()\n"
      ],
      "metadata": {
        "colab": {
          "base_uri": "https://localhost:8080/",
          "height": 248
        },
        "id": "hJVqxVVc3Zyj",
        "outputId": "e9f298e5-44e2-4b48-8383-0d804311a81b"
      },
      "execution_count": 57,
      "outputs": [
        {
          "output_type": "display_data",
          "data": {
            "image/png": "[encoded data removed]",
            "text/plain": [
              "<Figure size 432x288 with 2 Axes>"
            ]
          },
          "metadata": {
            "needs_background": "light"
          }
        }
      ]
    },
    {
      "cell_type": "markdown",
      "source": [
        "##(c). k=4 , output your model’s prediction"
      ],
      "metadata": {
        "id": "kfTarMyhBIcf"
      }
    },
    {
      "cell_type": "code",
      "source": [
        "# print(test_x_std[:5])\n",
        "# print(train_x_std[:5])\n",
        "# print(train_y[:5])"
      ],
      "metadata": {
        "id": "5myQR0BIg3mN"
      },
      "execution_count": 58,
      "outputs": []
    },
    {
      "cell_type": "code",
      "source": [
        "pred = knn(test_x_std,train_x_std,train_y,k=4)\n",
        "# distance([1,1],train_x)\n",
        "print(pred) "
      ],
      "metadata": {
        "id": "q6EtCyEr4CQb",
        "colab": {
          "base_uri": "https://localhost:8080/"
        },
        "outputId": "2529452f-bd15-43e8-e25a-9967cc5a936b"
      },
      "execution_count": 59,
      "outputs": [
        {
          "output_type": "stream",
          "name": "stdout",
          "text": [
            "[[ 47.82520075]\n",
            " [  1.94127595]\n",
            " [  3.53349   ]\n",
            " [ 23.010314  ]\n",
            " [  0.        ]\n",
            " [ 33.16616875]\n",
            " [143.6071275 ]\n",
            " [ 17.25110925]\n",
            " [144.553385  ]\n",
            " [  0.        ]\n",
            " [139.317855  ]\n",
            " [122.1577575 ]\n",
            " [ 32.56594375]\n",
            " [  0.        ]\n",
            " [ 46.58921875]\n",
            " [ 76.93522625]\n",
            " [  0.        ]\n",
            " [ 25.6603695 ]\n",
            " [  0.        ]\n",
            " [100.38126775]\n",
            " [ 84.8478385 ]\n",
            " [ 81.60874825]\n",
            " [ 76.7378305 ]\n",
            " [-10.31073568]\n",
            " [ 65.5553395 ]\n",
            " [ 84.7474185 ]\n",
            " [  0.        ]\n",
            " [  0.        ]\n",
            " [ 18.20339375]\n",
            " [  0.        ]\n",
            " [129.913825  ]\n",
            " [ 34.7981695 ]\n",
            " [ 57.53032975]\n",
            " [ 56.48446725]\n",
            " [ 18.506154  ]\n",
            " [  0.        ]\n",
            " [  0.        ]\n",
            " [  0.        ]\n",
            " [  1.28746453]\n",
            " [ 75.71514075]\n",
            " [  5.1117646 ]\n",
            " [ 32.5441315 ]\n",
            " [  0.        ]\n",
            " [ 20.89536025]\n",
            " [  8.1929867 ]\n",
            " [ 57.53032975]\n",
            " [137.56297   ]\n",
            " [-10.05935588]\n",
            " [108.4501775 ]\n",
            " [ 22.79880075]\n",
            " [114.490785  ]\n",
            " [  0.        ]\n",
            " [  0.        ]\n",
            " [ 39.166985  ]\n",
            " [  0.        ]\n",
            " [-10.3120267 ]\n",
            " [ 37.338484  ]\n",
            " [118.212585  ]\n",
            " [ 46.2902115 ]\n",
            " [-16.71533475]\n",
            " [ 32.04212145]\n",
            " [104.35800725]\n",
            " [  0.        ]\n",
            " [-18.039955  ]\n",
            " [-26.779211  ]\n",
            " [-42.06734825]\n",
            " [  0.        ]\n",
            " [ 25.04395275]\n",
            " [  2.17379664]\n",
            " [ 20.61651525]\n",
            " [ 26.565107  ]\n",
            " [-10.8642447 ]\n",
            " [135.257495  ]\n",
            " [  0.        ]\n",
            " [129.913825  ]\n",
            " [  0.        ]\n",
            " [ 48.557467  ]\n",
            " [114.1255275 ]\n",
            " [ 69.63465   ]\n",
            " [  0.        ]\n",
            " [  0.        ]\n",
            " [ 24.0293205 ]\n",
            " [ 30.059337  ]\n",
            " [ 71.79197225]\n",
            " [ 45.65286675]\n",
            " [  8.22519373]\n",
            " [  0.        ]\n",
            " [ 23.29668625]\n",
            " [ 16.28814475]\n",
            " [ 46.269951  ]\n",
            " [  1.34069895]\n",
            " [ 28.26058575]\n",
            " [127.42141   ]\n",
            " [  0.        ]\n",
            " [ 16.52663043]\n",
            " [  0.        ]\n",
            " [  0.        ]\n",
            " [  0.        ]\n",
            " [ 71.27629925]\n",
            " [  0.        ]\n",
            " [  0.        ]\n",
            " [ 37.82122025]\n",
            " [ 96.87074425]\n",
            " [152.2188625 ]\n",
            " [-13.50847975]\n",
            " [ 95.25886375]\n",
            " [ 37.89297875]\n",
            " [ 20.89536025]\n",
            " [ 44.70490775]\n",
            " [ 92.5671365 ]\n",
            " [ 23.757714  ]\n",
            " [ 42.95161275]\n",
            " [ 44.50529175]\n",
            " [ 56.88306925]\n",
            " [  0.        ]\n",
            " [ 61.13782525]\n",
            " [ 12.56068882]\n",
            " [ 20.89536025]\n",
            " [  0.        ]\n",
            " [ 60.1904595 ]\n",
            " [  0.        ]\n",
            " [  0.        ]\n",
            " [ 43.19043425]\n",
            " [  0.        ]\n",
            " [  0.        ]\n",
            " [117.3768375 ]\n",
            " [ 65.519863  ]\n",
            " [  0.        ]\n",
            " [ 24.2527955 ]\n",
            " [ 20.23909225]\n",
            " [  0.        ]\n",
            " [ 52.88594975]\n",
            " [  1.72341835]\n",
            " [  0.        ]\n",
            " [ 39.903931  ]\n",
            " [117.4642125 ]\n",
            " [  0.        ]\n",
            " [136.9223475 ]\n",
            " [104.622189  ]\n",
            " [ 57.2597515 ]\n",
            " [ 32.347913  ]\n",
            " [ 10.71355365]\n",
            " [ 45.46953775]\n",
            " [ 35.9352925 ]\n",
            " [  0.        ]\n",
            " [113.8856025 ]\n",
            " [ 32.347913  ]\n",
            " [ 19.60477275]\n",
            " [ 49.1453005 ]\n",
            " [ 28.2083865 ]\n",
            " [ 26.324164  ]\n",
            " [ 49.6471965 ]\n",
            " [  0.        ]\n",
            " [157.068135  ]\n",
            " [  0.        ]\n",
            " [  0.        ]\n",
            " [102.2695485 ]\n",
            " [ 59.57128025]\n",
            " [  1.94127595]\n",
            " [104.07936975]\n",
            " [106.0937195 ]\n",
            " [127.8874075 ]\n",
            " [  0.        ]\n",
            " [122.9378925 ]\n",
            " [ 36.34371925]\n",
            " [ -4.27379614]\n",
            " [  0.        ]\n",
            " [  0.        ]\n",
            " [109.63539275]\n",
            " [  0.        ]\n",
            " [  5.963572  ]\n",
            " [-41.0650515 ]\n",
            " [  0.        ]\n",
            " [ 21.50457025]\n",
            " [  0.        ]\n",
            " [  0.        ]\n",
            " [ 32.973254  ]\n",
            " [-15.74450275]\n",
            " [  6.57874722]\n",
            " [ 34.31953325]\n",
            " [ 59.57128025]\n",
            " [ 10.36060443]\n",
            " [ -9.2768644 ]\n",
            " [  0.        ]\n",
            " [ 34.839483  ]\n",
            " [  0.        ]\n",
            " [ 69.34187775]\n",
            " [  5.01421383]\n",
            " [  0.        ]\n",
            " [ 67.77000475]\n",
            " [ 26.197627  ]\n",
            " [  0.        ]\n",
            " [ 17.94014925]\n",
            " [132.2512425 ]\n",
            " [  0.        ]\n",
            " [  0.        ]\n",
            " [-19.40981325]\n",
            " [154.098655  ]\n",
            " [ 24.93186975]\n",
            " [  0.        ]\n",
            " [ 73.42673725]\n",
            " [131.622885  ]\n",
            " [ 36.7270825 ]\n",
            " [  0.        ]\n",
            " [ 32.72866425]\n",
            " [ 56.1742595 ]\n",
            " [  9.0789077 ]\n",
            " [112.8063545 ]\n",
            " [133.7904775 ]\n",
            " [147.411415  ]\n",
            " [ 53.439019  ]\n",
            " [  2.17719111]\n",
            " [ 27.86148275]\n",
            " [-14.58170133]\n",
            " [ 48.8969475 ]\n",
            " [  0.72484325]\n",
            " [  0.        ]\n",
            " [ 94.211027  ]\n",
            " [ 10.48317058]\n",
            " [  3.600121  ]\n",
            " [ 41.40336675]\n",
            " [-11.07359075]\n",
            " [  2.17719111]\n",
            " [ 22.39827475]\n",
            " [  0.        ]\n",
            " [ 34.92788775]\n",
            " [  0.        ]\n",
            " [ 75.71514075]\n",
            " [ 89.567969  ]\n",
            " [110.979485  ]\n",
            " [ -8.7290735 ]\n",
            " [ 75.6223725 ]\n",
            " [  0.        ]\n",
            " [  0.        ]\n",
            " [  0.        ]\n",
            " [101.6526295 ]\n",
            " [  0.        ]\n",
            " [ 86.5317875 ]\n",
            " [ 39.166985  ]\n",
            " [ 88.6605315 ]\n",
            " [111.5049475 ]\n",
            " [  0.        ]\n",
            " [106.3435175 ]\n",
            " [146.1350275 ]\n",
            " [  0.        ]\n",
            " [116.7058675 ]\n",
            " [  4.5704862 ]\n",
            " [102.2695485 ]\n",
            " [117.3768375 ]\n",
            " [ 64.19510825]\n",
            " [ 89.71383975]\n",
            " [ 22.5152235 ]\n",
            " [  0.        ]\n",
            " [ 34.97302875]\n",
            " [ 44.83542625]\n",
            " [-10.31073568]\n",
            " [  0.46691312]\n",
            " [ 79.0509185 ]\n",
            " [-14.60804218]\n",
            " [ 36.48324675]\n",
            " [ 25.1794875 ]\n",
            " [  0.        ]\n",
            " [ 35.60614025]\n",
            " [  0.        ]\n",
            " [111.5049475 ]\n",
            " [ 81.78022775]\n",
            " [  0.        ]\n",
            " [155.13313   ]\n",
            " [ 34.97302875]\n",
            " [ 45.57684925]\n",
            " [ 21.77430425]\n",
            " [  0.        ]\n",
            " [ 67.47957625]\n",
            " [-34.79555325]\n",
            " [123.26996   ]\n",
            " [ 10.14592203]\n",
            " [ 78.9403135 ]\n",
            " [  0.        ]\n",
            " [ 41.2032585 ]\n",
            " [-16.197954  ]\n",
            " [ 23.282967  ]\n",
            " [ 11.01389913]\n",
            " [151.429325  ]\n",
            " [126.2322625 ]\n",
            " [ 20.89536025]\n",
            " [  0.        ]\n",
            " [ 24.93435225]\n",
            " [ 12.69640505]\n",
            " [ 43.33966475]\n",
            " [ 69.82616875]\n",
            " [ 31.09968525]\n",
            " [ 14.69953025]\n",
            " [-13.69537318]\n",
            " [131.601745  ]\n",
            " [ 46.2902115 ]\n",
            " [  0.        ]\n",
            " [ 83.515547  ]\n",
            " [ 14.01185432]\n",
            " [ 19.4202495 ]\n",
            " [ 21.491069  ]\n",
            " [ 54.18786975]\n",
            " [  0.        ]\n",
            " [ 61.13782525]\n",
            " [ 64.492366  ]\n",
            " [  5.1117646 ]\n",
            " [-13.22029817]\n",
            " [ 53.04044275]\n",
            " [ 23.9227055 ]\n",
            " [ 80.58941375]\n",
            " [ 20.73910775]\n",
            " [  0.        ]\n",
            " [  0.        ]\n",
            " [101.8595845 ]\n",
            " [132.4953075 ]\n",
            " [151.429325  ]\n",
            " [136.1928775 ]\n",
            " [ 92.939668  ]\n",
            " [ 12.16613735]\n",
            " [127.2691475 ]\n",
            " [  0.        ]\n",
            " [ 81.85451875]\n",
            " [ 96.5276635 ]\n",
            " [ 28.151358  ]\n",
            " [ 27.94416975]\n",
            " [  8.35364008]\n",
            " [ 16.39819425]\n",
            " [  0.        ]\n",
            " [ 89.74429675]\n",
            " [ 65.5553395 ]\n",
            " [105.79641625]\n",
            " [ 76.17377625]\n",
            " [ 12.56068882]\n",
            " [110.5049025 ]\n",
            " [115.2187225 ]\n",
            " [  2.29638192]\n",
            " [  0.        ]\n",
            " [150.34947   ]\n",
            " [  0.        ]\n",
            " [ 51.86458375]\n",
            " [  4.3189102 ]\n",
            " [ 79.0509185 ]\n",
            " [  0.        ]\n",
            " [ 74.64539125]\n",
            " [  0.        ]\n",
            " [ 45.65286675]\n",
            " [  0.        ]\n",
            " [125.79888   ]\n",
            " [  0.        ]\n",
            " [ 77.91828325]\n",
            " [ 35.13448625]\n",
            " [  0.        ]\n",
            " [  0.        ]\n",
            " [  0.        ]\n",
            " [  0.        ]\n",
            " [147.447925  ]\n",
            " [  0.        ]\n",
            " [-14.60804217]\n",
            " [ 27.1111825 ]\n",
            " [ 16.9740265 ]\n",
            " [  0.        ]\n",
            " [  9.01278103]\n",
            " [  7.2548613 ]\n",
            " [ 23.9376815 ]\n",
            " [ 43.19043425]\n",
            " [  5.553989  ]\n",
            " [  0.        ]\n",
            " [ 72.545109  ]\n",
            " [142.518895  ]\n",
            " [ 20.89536025]\n",
            " [ 36.94298225]\n",
            " [ 58.16879325]\n",
            " [  0.        ]\n",
            " [ 11.95084065]\n",
            " [ -3.3382919 ]\n",
            " [ 30.67802275]\n",
            " [ 37.93228025]\n",
            " [  0.        ]\n",
            " [ 23.29668625]\n",
            " [117.6353975 ]\n",
            " [-17.836004  ]\n",
            " [ 51.980923  ]\n",
            " [  0.        ]\n",
            " [  8.8531945 ]\n",
            " [ 57.90919025]\n",
            " [  0.        ]\n",
            " [  0.        ]\n",
            " [148.4401925 ]\n",
            " [101.1519465 ]\n",
            " [ 28.26058575]\n",
            " [ -7.5189555 ]\n",
            " [145.1551075 ]\n",
            " [  0.        ]\n",
            " [  0.        ]\n",
            " [  2.83363015]\n",
            " [ 29.4244105 ]\n",
            " [  0.        ]\n",
            " [152.0255975 ]\n",
            " [ 62.3673105 ]\n",
            " [137.7909175 ]\n",
            " [ 46.76988975]\n",
            " [ 21.5358705 ]\n",
            " [ 84.30458175]\n",
            " [ 88.0224945 ]\n",
            " [126.0474675 ]\n",
            " [  0.        ]\n",
            " [  0.        ]\n",
            " [ 25.1794875 ]\n",
            " [ 26.324164  ]\n",
            " [  0.        ]\n",
            " [ 19.05861387]\n",
            " [  0.        ]\n",
            " [  0.        ]\n",
            " [ 25.4658125 ]\n",
            " [  0.        ]\n",
            " [ 29.15845075]\n",
            " [ 87.3593605 ]\n",
            " [157.2833875 ]\n",
            " [ 59.0980785 ]\n",
            " [ 20.00482475]\n",
            " [105.44544025]\n",
            " [137.7909175 ]\n",
            " [ 78.33384525]\n",
            " [ 33.1321255 ]\n",
            " [  0.        ]\n",
            " [121.8389    ]\n",
            " [-13.50847975]\n",
            " [  0.        ]\n",
            " [ 65.5553395 ]\n",
            " [ 35.72480325]\n",
            " [  0.        ]\n",
            " [  0.        ]\n",
            " [  0.        ]\n",
            " [ 62.483261  ]\n",
            " [122.0742175 ]\n",
            " [ 65.42895275]\n",
            " [  0.        ]\n",
            " [ 41.40336675]\n",
            " [ 23.6494515 ]\n",
            " [  0.        ]\n",
            " [ 10.88752325]\n",
            " [ 13.0381985 ]\n",
            " [  0.        ]\n",
            " [  0.        ]\n",
            " [ 32.12378125]\n",
            " [ 26.8740765 ]\n",
            " [-16.71533475]\n",
            " [  0.        ]\n",
            " [ 52.34873275]\n",
            " [ 74.3706035 ]\n",
            " [-18.896867  ]\n",
            " [ 23.75227255]\n",
            " [  0.        ]\n",
            " [  0.        ]\n",
            " [  0.        ]\n",
            " [  0.        ]\n",
            " [  0.        ]\n",
            " [ -8.7772454 ]\n",
            " [  2.30662682]\n",
            " [  0.        ]\n",
            " [ 18.5170805 ]\n",
            " [123.26996   ]\n",
            " [ 80.208951  ]\n",
            " [142.518895  ]\n",
            " [-14.60804218]\n",
            " [  0.        ]\n",
            " [ 33.86010025]\n",
            " [  0.        ]\n",
            " [ 42.80022725]\n",
            " [147.411415  ]\n",
            " [134.1176125 ]\n",
            " [ 87.02657625]\n",
            " [ 64.19510825]\n",
            " [  0.        ]\n",
            " [-26.779211  ]\n",
            " [ 72.6429525 ]\n",
            " [  0.        ]\n",
            " [ 44.330738  ]\n",
            " [ 39.096541  ]\n",
            " [  0.        ]\n",
            " [125.082345  ]\n",
            " [ 32.50757025]\n",
            " [105.61616425]\n",
            " [  0.        ]\n",
            " [100.7470235 ]\n",
            " [109.3984125 ]\n",
            " [-10.31073568]\n",
            " [  0.        ]\n",
            " [144.2620425 ]\n",
            " [ 26.1677685 ]\n",
            " [ 46.269951  ]\n",
            " [102.0033515 ]\n",
            " [120.6546825 ]\n",
            " [  0.        ]\n",
            " [  0.        ]\n",
            " [ 65.5553395 ]\n",
            " [ 36.609176  ]\n",
            " [  7.34841787]\n",
            " [140.04343   ]\n",
            " [106.6951245 ]\n",
            " [ 19.518925  ]]\n"
          ]
        }
      ]
    },
    {
      "cell_type": "markdown",
      "source": [
        "##(b). k=4, plot prediction and ground truth"
      ],
      "metadata": {
        "id": "Fbc8a2XJBjuH"
      }
    },
    {
      "cell_type": "code",
      "source": [
        "pred = knn(mesh_std_x,train_x_std,train_y,k=4)\n",
        "\n",
        "fig, ax = plt.subplots(subplot_kw={\"projection\": \"3d\"})\n",
        "\n",
        "# Plot the surface.\n",
        "surf = ax.plot_surface(xx1,xx2,pred.reshape(xx1.shape), cmap=cm.coolwarm,\n",
        "                       linewidth=0, antialiased=False)\n",
        "ax.scatter(test_x[:,0].reshape(-1,1),test_x[:,1].reshape(-1,1),test_y.reshape(-1,1),label=\"ground truth\")\n",
        "ax.legend()\n",
        "cbar =fig.colorbar(surf, shrink=0.5, aspect=5)\n",
        "cbar.ax.set_ylabel('predition surface', rotation=270)\n",
        "ax.set(xlabel='x1',ylabel=\"x2\",zlabel=\"y\")\n",
        "plt.show()\n"
      ],
      "metadata": {
        "colab": {
          "base_uri": "https://localhost:8080/",
          "height": 248
        },
        "id": "EiqdNp8OBhbX",
        "outputId": "a6b39a17-8765-4149-9f7a-2adc340cf483"
      },
      "execution_count": 60,
      "outputs": [
        {
          "output_type": "display_data",
          "data": {
            "image/png": "[encoded data removed]",
            "text/plain": [
              "<Figure size 432x288 with 2 Axes>"
            ]
          },
          "metadata": {
            "needs_background": "light"
          }
        }
      ]
    },
    {
      "cell_type": "markdown",
      "source": [
        "##(e) Note and report your qualitative observations about the differences between $K=1$ vs. $K=4$ regression."
      ],
      "metadata": {
        "id": "vsGrSQv_P6eG"
      }
    },
    {
      "cell_type": "markdown",
      "source": [
        "From the two graph, we could notice that when $K=4$, the 3D plot is more smooth and seems natural, this is reasonable since it is using nearest 4 points and weights them to get the results. However, for the $K=1$ condition, only use one point will lead the prediction only has the out put of the train set, thus, the graph seems not smooth and natural than the $K=4$. "
      ],
      "metadata": {
        "id": "w_RIn67NQBiO"
      }
    }
  ]
}