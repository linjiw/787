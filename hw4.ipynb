{
  "nbformat": 4,
  "nbformat_minor": 0,
  "metadata": {
    "colab": {
      "name": "hw4.ipynb",
      "provenance": [],
      "collapsed_sections": [],
      "authorship_tag": "ABX9TyM7OWe2rSbgm7hJR7xaAa81",
      "include_colab_link": true
    },
    "kernelspec": {
      "name": "python3",
      "display_name": "Python 3"
    },
    "language_info": {
      "name": "python"
    }
  },
  "cells": [
    {
      "cell_type": "markdown",
      "metadata": {
        "id": "view-in-github",
        "colab_type": "text"
      },
      "source": [
        "<a href=\"https://colab.research.google.com/github/linjiw/787/blob/main/hw4.ipynb\" target=\"_parent\"><img src=\"https://colab.research.google.com/assets/colab-badge.svg\" alt=\"Open In Colab\"/></a>"
      ]
    },
    {
      "cell_type": "code",
      "source": [
        "import numpy as np\n",
        "import scipy.io as sio\n",
        "import matplotlib.pyplot as plt\n",
        "from tqdm import tqdm"
      ],
      "metadata": {
        "id": "EM3wZIR6Sc3u"
      },
      "execution_count": 41,
      "outputs": []
    },
    {
      "cell_type": "code",
      "execution_count": 3,
      "metadata": {
        "colab": {
          "base_uri": "https://localhost:8080/"
        },
        "id": "tyaSyLgVQ9ni",
        "outputId": "f5cba2c8-52ed-4826-d6e5-441c803b5d18"
      },
      "outputs": [
        {
          "output_type": "stream",
          "name": "stdout",
          "text": [
            "Mounted at /content/drive\n"
          ]
        }
      ],
      "source": [
        "\n",
        "from google.colab import drive\n",
        "drive.mount('/content/drive')"
      ]
    },
    {
      "cell_type": "code",
      "source": [
        "%cd /content/drive/MyDrive/24787/hw4"
      ],
      "metadata": {
        "colab": {
          "base_uri": "https://localhost:8080/"
        },
        "id": "JB5vb1a4RKEo",
        "outputId": "6e15b2ad-a5b8-4de9-e8e6-b88e86721adf"
      },
      "execution_count": 4,
      "outputs": [
        {
          "output_type": "stream",
          "name": "stdout",
          "text": [
            "/content/drive/MyDrive/24787/hw4\n"
          ]
        }
      ]
    },
    {
      "cell_type": "code",
      "source": [
        "%ls"
      ],
      "metadata": {
        "colab": {
          "base_uri": "https://localhost:8080/"
        },
        "id": "M-blZ-v3RYdr",
        "outputId": "865b8f0e-2f09-419d-9c02-c6d89fc4e9a4"
      },
      "execution_count": 5,
      "outputs": [
        {
          "output_type": "stream",
          "name": "stdout",
          "text": [
            "digits.mat  hw4.ipynb  MLAI24787_hw04_2022Spring.pdf  test.txt  train.txt\n"
          ]
        }
      ]
    },
    {
      "cell_type": "code",
      "source": [
        "data = sio.loadmat(\"digits.mat\")\n",
        "\n",
        "x = data['X']\n",
        "y = np.squeeze(data['y']).reshape((-1,1))\n",
        "\n",
        "np.place(y,y==10,0) #replace 10 with 0 in labels \n",
        "numExamples = x.shape[0] \n",
        "numFeaturs = x.shape[1] \n",
        "numLabels = 10 #10 class"
      ],
      "metadata": {
        "id": "oTdGH-zIRZ9g"
      },
      "execution_count": 23,
      "outputs": []
    },
    {
      "cell_type": "code",
      "source": [
        "print(f\"numExamples {numExamples} numFeaturs {numFeaturs} numLabels {numLabels} y.shape {y.shape}\")"
      ],
      "metadata": {
        "colab": {
          "base_uri": "https://localhost:8080/"
        },
        "id": "N4vWVIfeRs_s",
        "outputId": "7b8fb624-ac88-4c77-ce7d-0f2863c33939"
      },
      "execution_count": 24,
      "outputs": [
        {
          "output_type": "stream",
          "name": "stdout",
          "text": [
            "numExamples 5000 numFeaturs 400 numLabels 10 y.shape (5000, 1)\n"
          ]
        }
      ]
    },
    {
      "cell_type": "code",
      "source": [
        "range1 = [0,22,232,2332]\n",
        "\n",
        "for i in range1:\n",
        "  pic = x[i,:].reshape((20,20))\n",
        "  plt.imshow(pic)\n",
        "  plt.show()\n"
      ],
      "metadata": {
        "colab": {
          "base_uri": "https://localhost:8080/",
          "height": 1000
        },
        "id": "mPoaa7MsRkJC",
        "outputId": "825e452d-cdb7-4f20-a9e1-2585a5b1c121"
      },
      "execution_count": 12,
      "outputs": [
        {
          "output_type": "display_data",
          "data": {
            "image/png": "[encoded data removed]",
            "text/plain": [
              "<Figure size 432x288 with 1 Axes>"
            ]
          },
          "metadata": {
            "needs_background": "light"
          }
        },
        {
          "output_type": "display_data",
          "data": {
            "image/png": "[encoded data removed]",
            "text/plain": [
              "<Figure size 432x288 with 1 Axes>"
            ]
          },
          "metadata": {
            "needs_background": "light"
          }
        },
        {
          "output_type": "display_data",
          "data": {
            "image/png": "[encoded data removed]",
            "text/plain": [
              "<Figure size 432x288 with 1 Axes>"
            ]
          },
          "metadata": {
            "needs_background": "light"
          }
        },
        {
          "output_type": "display_data",
          "data": {
            "image/png": "[encoded data removed]",
            "text/plain": [
              "<Figure size 432x288 with 1 Axes>"
            ]
          },
          "metadata": {
            "needs_background": "light"
          }
        }
      ]
    },
    {
      "cell_type": "code",
      "source": [
        "def sigmoid(z):\n",
        "\n",
        "  return 1 / (1 + np.exp(-z))\n",
        "\n",
        "def cost(theta, X, y):\n",
        "\n",
        "  predictions = sigmoid(X @ theta) \n",
        "  predictions[predictions == 1] = 0.999 #log(1)=0 causes error in division \n",
        "  error = -y * np.log(predictions) - (1 - y) * np.log(1 - predictions)\n",
        "  return sum(error) / len(y);\n",
        "\n",
        "def costGradient(theta, X, y):\n",
        "\n",
        "  predictions = sigmoid(X @ theta)\n",
        "  # print(f\"predictions.shape {predictions.shape} X.shape {X.shape} X.T @ predictions\")\n",
        "  return X.transpose() @ (predictions - y) / len(y)"
      ],
      "metadata": {
        "id": "YYvE80TPSO49"
      },
      "execution_count": 27,
      "outputs": []
    },
    {
      "cell_type": "code",
      "source": [
        "def splitdata(x,y):\n",
        "  train_x = np.empty((0,numFeaturs))\n",
        "  train_y = np.empty((0,1))\n",
        "  val_x = np.empty((0,numFeaturs))\n",
        "  val_y = np.empty((0,1))\n",
        "  for i in range(10):\n",
        "    train_x = np.vstack((train_x,x[i*400:(i+1)*400,:]))\n",
        "    train_y = np.vstack((train_y,y[i*400:(i+1)*400,:]))\n",
        "    val_x = np.vstack((val_x,x[i*500+400:(i+1)*500,:]))\n",
        "    # print(val_x.shape)\n",
        "    val_y = np.vstack((val_y,y[i*500+400:(i+1)*500,:]))\n",
        "  return train_x,train_y,val_x,val_y\n",
        "\n",
        "train_x,train_y,val_x,val_y = splitdata(x,y)\n",
        "print(f\"train_x {train_x.shape} train_y {train_y.shape} val_x {val_x.shape} val_y {val_x.shape}\")"
      ],
      "metadata": {
        "colab": {
          "base_uri": "https://localhost:8080/"
        },
        "id": "fFpQXuB7YHvc",
        "outputId": "e839fd3e-8326-4af0-ffc0-28675fe2b61e"
      },
      "execution_count": 37,
      "outputs": [
        {
          "output_type": "stream",
          "name": "stdout",
          "text": [
            "train_x (4000, 400) train_y (4000, 1) val_x (1000, 400) val_y (1000, 400)\n"
          ]
        }
      ]
    },
    {
      "cell_type": "code",
      "source": [
        "def plotloss(losslst):\n",
        "    plt.plot(np.arange(len(losslst)), losslst)\n",
        "    plt.show()\n",
        "def train(X,Y,class_idx,step=0.1,iter=1e6,threshold=1e-6,e=1e-8,ifplot = False):\n",
        "    Z = Y.copy()\n",
        "    Z[Y==class_idx] = 1\n",
        "    Z[Y!=class_idx] = 0\n",
        "    error  = 1e5\n",
        "    count = 0\n",
        "    prev = 0\n",
        "    J_lst = []\n",
        "    # w = np.array([[-65],[0],[0]],dtype=float)\n",
        "    theta = np.zeros((numFeaturs,1))\n",
        "    while error > threshold and count<iter:\n",
        "\n",
        "        J = cost(theta,X,Z)\n",
        "        G = costGradient(theta,X,Z)\n",
        "        # print(f\"G.shape {G.shape}. theta.shape {theta.shape}\")\n",
        "        theta -= step*G\n",
        "        error = np.abs(J-prev)\n",
        "        prev = J\n",
        "        J_lst.append(J)\n",
        "        count+=1\n",
        "        # print(f\"loss {J}\")\n",
        "    if ifplot:\n",
        "      plotloss(J_lst)\n",
        "    \n",
        "    return theta\n",
        "\n",
        "# W = np.zeros((numFeaturs,1))\n",
        "w_all = dict()\n",
        "for i in tqdm(range(10)):\n",
        "  if i==0 or i==5:\n",
        "    w_all[str(i)] = train(train_x,train_y,i,ifplot=True)\n",
        "  else:\n",
        "    w_all[str(i)] = train(train_x,train_y,i,ifplot=False)\n",
        "np.save('w.npy',w_all)\n",
        "\n",
        "\n",
        "\n"
      ],
      "metadata": {
        "colab": {
          "base_uri": "https://localhost:8080/",
          "height": 566
        },
        "id": "f0vuH8LnTIKz",
        "outputId": "660ec45e-d12d-4bf7-88fd-f249b42a6f13"
      },
      "execution_count": 42,
      "outputs": [
        {
          "output_type": "stream",
          "name": "stderr",
          "text": [
            "\r  0%|          | 0/10 [00:00<?, ?it/s]"
          ]
        },
        {
          "output_type": "display_data",
          "data": {
            "image/png": "[encoded data removed]",
            "text/plain": [
              "<Figure size 432x288 with 1 Axes>"
            ]
          },
          "metadata": {
            "needs_background": "light"
          }
        },
        {
          "output_type": "stream",
          "name": "stderr",
          "text": [
            " 50%|█████     | 5/10 [05:37<05:50, 70.01s/it]"
          ]
        },
        {
          "output_type": "display_data",
          "data": {
            "image/png": "[encoded data removed]",
            "text/plain": [
              "<Figure size 432x288 with 1 Axes>"
            ]
          },
          "metadata": {
            "needs_background": "light"
          }
        },
        {
          "output_type": "stream",
          "name": "stderr",
          "text": [
            "100%|██████████| 10/10 [09:46<00:00, 58.66s/it]\n"
          ]
        }
      ]
    }
  ]
}